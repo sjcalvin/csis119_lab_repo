{
 "cells": [
  {
   "cell_type": "markdown",
   "metadata": {},
   "source": [
    "# Lab 10.7"
   ]
  },
  {
   "cell_type": "markdown",
   "metadata": {},
   "source": [
    "# Scenario\n",
    "You are an HR manager and you need to create a file containing wages for your employees calculated by their hours.\n",
    "\n",
    "# Aim\n",
    "Read in a CSV file with the employee names and the hours worked, and then output another CSV file with their `pay_rate` calculated with the rate **1 hour * 15**.\n",
    "\n",
    "# Steps for Completion\n",
    "\n",
    "1. Using the `csv` imported module, write a script to read the contents of our `employees.csv` file that has the format shown in *Figure 8.5*:\n",
    "\n",
    "![PF1e-8-7-figure-8.5.png](https://cdn.filestackcontent.com/AblPcESSozhUSKPnfsg6)\n",
    "\n",
    "<sup>*Figure 8.5*</sup>\n",
    "\n",
    "2. Output a new CSV file called `wages.csv` which should have the format shown in *Figure 8.6*:\n",
    "\n",
    "![PF1e-8-7-figure-8.6.png](https://cdn.filestackcontent.com/nft6uLkvTZSyaZO475Ui)\n",
    "\n",
    "Here, wages are calculated using the formula, `hours_worked * 15`.\n",
    "\n",
    "Make sure you've generated the output file by running *python3 main.py* and then verify that the content follows the correct format by clicking on the *wages.csv* file in your editor.\n",
    "\n",
    "> Your output file does not need to include a **$**."
   ]
  },
  {
   "cell_type": "code",
   "execution_count": null,
   "metadata": {
    "vscode": {
     "languageId": "plaintext"
    }
   },
   "outputs": [],
   "source": []
  },
  {
   "cell_type": "code",
   "execution_count": null,
   "metadata": {
    "vscode": {
     "languageId": "plaintext"
    }
   },
   "outputs": [],
   "source": []
  },
  {
   "cell_type": "code",
   "execution_count": null,
   "metadata": {
    "vscode": {
     "languageId": "plaintext"
    }
   },
   "outputs": [],
   "source": []
  }
 ],
 "metadata": {
  "language_info": {
   "name": "python"
  }
 },
 "nbformat": 4,
 "nbformat_minor": 2
}
