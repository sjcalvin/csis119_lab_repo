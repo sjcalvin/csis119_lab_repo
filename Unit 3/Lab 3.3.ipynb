{
 "cells": [
  {
   "cell_type": "markdown",
   "metadata": {},
   "source": [
    "#### Scenario\n",
    "\n",
    "Write a program that fetches the first `count` amount of elements of a list.\n",
    "\n",
    "#### Aim\n",
    "\n",
    "Create a script that contains the array **[34, 9, 32, 91, 58, 13, 77, 21, 56]**. The script will take a user input `count` that defines the number of elements to fetch from an array and then outputs those elements.\n",
    "\n",
    "#### Steps for Completion\n",
    "\n",
    "1. In the first cell, create the following array:\n",
    "\n",
    "   ```python\n",
    "   numbers = [34, 9, 32, 91, 58, 13, 77, 21, 56]\n",
    "   ```\n",
    "\n",
    "3. Next, print the array `numbers` and fetch the user input `count` for the number of elements to fetch from the array.\n",
    "\n",
    "4. Finally, print out the slice of the array from the first element to the n<sup>th</sup> element.\n",
    "\n",
    "\n",
    "The output should be similar to the following:\n",
    "\n",
    "$$\n",
    "   n = 4,\n",
    "\n",
    "   Output: [34, 9, 32, 91]\n",
    "$$"
   ]
  },
  {
   "cell_type": "code",
   "execution_count": null,
   "metadata": {},
   "outputs": [],
   "source": []
  },
  {
   "cell_type": "code",
   "execution_count": null,
   "metadata": {},
   "outputs": [],
   "source": []
  },
  {
   "cell_type": "code",
   "execution_count": null,
   "metadata": {},
   "outputs": [],
   "source": []
  }
 ],
 "metadata": {
  "kernelspec": {
   "display_name": "csis119",
   "language": "python",
   "name": "python3"
  },
  "language_info": {
   "codemirror_mode": {
    "name": "ipython",
    "version": 3
   },
   "file_extension": ".py",
   "mimetype": "text/x-python",
   "name": "python",
   "nbconvert_exporter": "python",
   "pygments_lexer": "ipython3",
   "version": "3.12.1"
  }
 },
 "nbformat": 4,
 "nbformat_minor": 2
}
