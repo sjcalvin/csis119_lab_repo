{
 "cells": [
  {
   "cell_type": "markdown",
   "metadata": {},
   "source": [
    "# Lab 9.5"
   ]
  },
  {
   "cell_type": "markdown",
   "metadata": {},
   "source": [
    "\n",
    "#### Scenario\n",
    "Suppose you work for an electronics company that has a new MoviePlayer device that it wants to release to the market. The software for this device needs to support over-the-air updates that enables users to watch their favorite movies painlessly. \n",
    "\n",
    "#### Aim\n",
    "Create a class that represents a portable movie player, `MoviePlayer`. The `MoviePlayer` class should have a `play` method, which sets the first movie from the list of movies as currently playing. The list of movies should be a `private` attribute. Additionally, it should have a firmware version attribute and an update firmware class method that updates the firmware version.\n",
    "\n",
    "#### Steps for Completion\n",
    "\n",
    "1. Go to your *main.py* file.\n",
    "\n",
    "2. Define the `MoviePlayer` class by adding the `firmware_version` class attribute and assigning it a value of **1.0**.\n",
    "\n",
    "3. Define the initializer method `__init__` and pre-populate the movie list with a few movies. Make sure the movies store is `private`.\n",
    "\n",
    "4. Define the `play` method, which sets the `current_movie` attribute to the first item in the movies list.\n",
    "\n",
    "5. Define the `list_movies` method, which returns the list of movies in the `MoviePlayer`.\n",
    "\n",
    "6. We'll add the `update_firmware` version method, which checks for whether the new version being provided is more recent than the current firmware version before updating.\n",
    "\n",
    "7. We then add a few test lines to the `main` method and run the script as shown in *Snippet 7.67*:\n",
    "```python\n",
    "    player = MoviePlayer()\n",
    "    print(\"Movies currently on device:\", player.list_movies())\n",
    "\n",
    "    player.update_firmware(2.0)\n",
    "    print(\"Updated player firmware version to\", player.firmware_version)\n",
    "\n",
    "    player.play()\n",
    "    print(\"Currently playing\", f\"'{player.current_movie}'\")\n",
    "```\n",
    "<sup>*Snippet 7.67*</sup>\n",
    "\n",
    "We can run the script by entering *python3 main.py* in the terminal. The output should look similar to *Figure 7.6*:\n",
    "\n",
    "![PF1e-7-5-figure-7.6.png](https://cdn.filestackcontent.com/unCnMbK8QpGBzfagxLgo)\n",
    "\n",
    "<sup>*Figure 7.6*</sup>\n"
   ]
  },
  {
   "cell_type": "code",
   "execution_count": null,
   "metadata": {},
   "outputs": [],
   "source": [
    "# Write your MoviePlayer class here\n",
    "\n",
    "\n",
    "# The code below is used to test your class\n",
    "if __name__ == '__main__':\n",
    "    player = MoviePlayer()\n",
    "    print(\"Movies currently on device:\", player.list_movies())\n",
    "\n",
    "    player.update_firmware(2.0)\n",
    "    print(\"Updated player firmware version to\", player.firmware_version)\n",
    "\n",
    "    player.play()\n",
    "    print(\"Currently playing\", f\"'{player.current_movie}'\")"
   ]
  }
 ],
 "metadata": {
  "language_info": {
   "name": "python"
  }
 },
 "nbformat": 4,
 "nbformat_minor": 2
}
