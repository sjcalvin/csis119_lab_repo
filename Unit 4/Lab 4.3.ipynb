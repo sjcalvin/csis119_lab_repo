{
 "cells": [
  {
   "cell_type": "markdown",
   "metadata": {},
   "source": [
    "# Lab 4.3 (3.3 in MindTap)"
   ]
  },
  {
   "cell_type": "markdown",
   "metadata": {},
   "source": [
    "# Aim\n",
    "The aim of this activity is to create a password authentication feature using a `while` loop.\n",
    "\n",
    "You have been asked to add a simple password authentication feature for a prototype that your team is setting up. One of your team members has advised the use of a `while` loop.\n",
    "\n",
    "# Steps for Completion\n",
    "\n",
    "1. Define **input(\"Enter your name: \")** as the name, **Pas$Word** as the password, and the Boolean variable first.\n",
    "\n",
    "2. Initiate the `while` loop and for the password ask for the user's input.\n",
    "\n",
    "3. Validate the password. If the password is correct, print \"**Welcome back, name**\". If the validation fails return an error and print the message \"**Incorrect password, try again...**\".\n",
    "\n",
    "4. Run your code in the cell. \n",
    "\n",
    "The output should be as shown:\n",
    "\n",
    "```bash\n",
    "Enter your name: Josh\n",
    "Enter your password: Pas$Word\n",
    "Welcome back, Josh\n",
    "\n",
    "Enter your name: Josh\n",
    "Enter your password: none\n",
    "Incorrect password, try again...\n",
    "Enter your password:\n",
    "```"
   ]
  },
  {
   "cell_type": "code",
   "execution_count": null,
   "metadata": {},
   "outputs": [],
   "source": []
  }
 ],
 "metadata": {
  "kernelspec": {
   "display_name": "csis119",
   "language": "python",
   "name": "python3"
  },
  "language_info": {
   "codemirror_mode": {
    "name": "ipython",
    "version": 3
   },
   "file_extension": ".py",
   "mimetype": "text/x-python",
   "name": "python",
   "nbconvert_exporter": "python",
   "pygments_lexer": "ipython3",
   "version": "3.12.1"
  }
 },
 "nbformat": 4,
 "nbformat_minor": 2
}
