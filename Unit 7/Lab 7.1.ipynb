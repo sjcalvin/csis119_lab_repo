{
 "cells": [
  {
   "cell_type": "markdown",
   "metadata": {},
   "source": [
    "# Lab 7.1A"
   ]
  },
  {
   "cell_type": "markdown",
   "metadata": {},
   "source": [
    "1. Use the `dict` function or curly bracket notation to create a dictionary and assign it to a variable, **location**.\n",
    "\n",
    "2. Within a `print` function, use the built-in `type` function on `location` to see if it is an instance of the `dict` class.\n",
    "\n",
    "A typical example of a dictionary is shown in _Snippet 6.5_:\n",
    "\n",
    "```python\n",
    "location = dict(\n",
    "\tstate=\"CA\",\n",
    "\tcity=\"Los Angeles\"\n",
    ")\n",
    "```"
   ]
  },
  {
   "cell_type": "code",
   "execution_count": null,
   "metadata": {},
   "outputs": [],
   "source": []
  },
  {
   "cell_type": "code",
   "execution_count": null,
   "metadata": {},
   "outputs": [],
   "source": []
  },
  {
   "cell_type": "markdown",
   "metadata": {},
   "source": [
    "# Lab 7.1B"
   ]
  },
  {
   "cell_type": "markdown",
   "metadata": {},
   "source": [
    "#### Scenario\n",
    "\n",
    "Given a word, write a function that will output a dictionary that will give each character of the word and its frequency.\n",
    "\n",
    "#### Aim\n",
    "\n",
    "Due to its key-value pair format, dictionaries can be used to present some forms of structured data in an easily readable way. This challenge will help you write code to present frequency data for characters in strings.\n",
    "\n",
    "Dictionaries are very good data structures for organizing data in a readable format. Your aim is to write a function called **word_counter**, which will take in a line of text and output a dictionary with each letter as a key, the value being the frequency of appearance of the letter.\n",
    "\n",
    "Here are some hints to help you out:\n",
    "\n",
    "• Treat different uppercase and lowercase letters separately. For example, `M` and `m` should have different counts.\n",
    "\n",
    "• Drop empty spaces.\n",
    "\n",
    "• Assume that sentences will not have any special characters.\n",
    "\n",
    "#### Steps for Completion\n",
    "\n",
    "1. Define the function `word_counter` and have it take a string argument.\n",
    "\n",
    "2. Iterate through the string and count the occurrences of each character.\n",
    "\n",
    "3. Output each character as a key in the output dictionary, with the frequency as the value.\n",
    "\n",
    "4. At the end of your script, call the `word_counter` function as shown in _Snippet 6.46_, pass it the string \"Mississippi\" and print it to the console. Here is an example:\n",
    "\n",
    "```python\n",
    "print(word_counter(\"Mississippi\"))\n",
    "```"
   ]
  },
  {
   "cell_type": "code",
   "execution_count": null,
   "metadata": {},
   "outputs": [],
   "source": []
  },
  {
   "cell_type": "code",
   "execution_count": null,
   "metadata": {},
   "outputs": [],
   "source": []
  },
  {
   "cell_type": "code",
   "execution_count": null,
   "metadata": {},
   "outputs": [],
   "source": []
  },
  {
   "cell_type": "code",
   "execution_count": null,
   "metadata": {},
   "outputs": [],
   "source": []
  },
  {
   "cell_type": "markdown",
   "metadata": {},
   "source": [
    "# Lab 7.1C"
   ]
  },
  {
   "cell_type": "markdown",
   "metadata": {},
   "source": [
    "#### Scenario\n",
    "You have two dictionaries that you need to process together. Write a Python function to combine the contents.\n",
    "\n",
    "#### Aim\n",
    "\n",
    "Combine two dictionaries and return a single dictionary with non-duplicate keys.\n",
    "\n",
    "#### Steps for Completion\n",
    "\n",
    "Write a function called `content_combiner` that will take two dictionaries and return a single dictionary with non-duplicate keys.\n",
    "\n",
    "The output should be as shown here:\n",
    "\n",
    "```python\n",
    "{'gold': 'Yellow', 'karats': 24}\n",
    "```"
   ]
  },
  {
   "cell_type": "code",
   "execution_count": null,
   "metadata": {},
   "outputs": [],
   "source": []
  },
  {
   "cell_type": "code",
   "execution_count": null,
   "metadata": {},
   "outputs": [],
   "source": []
  },
  {
   "cell_type": "code",
   "execution_count": null,
   "metadata": {},
   "outputs": [],
   "source": []
  }
 ],
 "metadata": {
  "language_info": {
   "name": "python"
  }
 },
 "nbformat": 4,
 "nbformat_minor": 2
}
