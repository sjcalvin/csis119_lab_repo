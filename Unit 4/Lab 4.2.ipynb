{
 "cells": [
  {
   "cell_type": "markdown",
   "metadata": {},
   "source": [
    "# Lab 4.2 (Lab 3.2 in MindTap)"
   ]
  },
  {
   "cell_type": "markdown",
   "metadata": {},
   "source": [
    "# Aim\n",
    "\n",
    "We have recently walked through a simple `if` statement block that results to a value based on the input given. The script is shown again in the following snippet:\n",
    "\n",
    "```python\n",
    "python3_year = 2008\n",
    "year = int(input('When was Python3 first released?'))\n",
    "\n",
    "if year == python3_year:\n",
    "    print('That is correct.')\n",
    "elif year > python3_year:\n",
    "    print('Incorrect, too late.')\n",
    "elif year < python3_year:\n",
    "\tprint('Incorrect, too early.')\n",
    "print('Have a great day!')\n",
    "```\n",
    "\n",
    "Modify this block as follows:\n",
    "\n",
    "• The user prompt should be `Return TRUE or FALSE: Python3 was released in 2008:`.\n",
    "\n",
    "• If the user inputs **TRUE**, print out `Correct`.\n",
    "\n",
    "• If the user inputs **FALSE**, print out `Incorrect`.\n",
    "\n",
    "• Any other user input should result in `Please answer TRUE or FALSE`.\n",
    "\n",
    "Enter your code in the following cell. Then, run the cell. The output from the cell should look like the following:\n",
    "\n",
    "```\n",
    "Return TRUE or FALSE: Python3 was released in 2008:\n",
    "TRUE\n",
    "Correct\n",
    "Have a great day!\n",
    "\n",
    "Return TRUE or FALSE: Python3 was released in 2008:\n",
    "FALSE\n",
    "Incorrect\n",
    "Have a great day!\n",
    "```"
   ]
  },
  {
   "cell_type": "code",
   "execution_count": null,
   "metadata": {},
   "outputs": [],
   "source": []
  }
 ],
 "metadata": {
  "kernelspec": {
   "display_name": "csis119",
   "language": "python",
   "name": "python3"
  },
  "language_info": {
   "codemirror_mode": {
    "name": "ipython",
    "version": 3
   },
   "file_extension": ".py",
   "mimetype": "text/x-python",
   "name": "python",
   "nbconvert_exporter": "python",
   "pygments_lexer": "ipython3",
   "version": "3.12.1"
  }
 },
 "nbformat": 4,
 "nbformat_minor": 2
}
