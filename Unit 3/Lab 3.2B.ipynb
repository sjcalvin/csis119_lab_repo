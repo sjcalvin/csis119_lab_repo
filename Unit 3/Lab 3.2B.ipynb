{
 "cells": [
  {
   "cell_type": "markdown",
   "metadata": {},
   "source": [
    "### Lab 3.2B."
   ]
  },
  {
   "cell_type": "markdown",
   "metadata": {},
   "source": [
    "#### Scenario\n",
    "\n",
    "You will create a Python script that will take a user's input and convert lower case letters in the string into upper case letters depending on the user input.\n",
    "\n",
    "#### Aim\n",
    "\n",
    "Convert the `count` amount of letters starting from the end of a given word to uppercase. The script should take the word as a string and specify the `count` amount of letters to convert as an integer input from the user. You can assume that the `count` variable will be a positive number.\n",
    "\n",
    "#### Steps for Completion\n",
    "\n",
    "1. In the first cell, request the string to convert from the user.\n",
    "\n",
    "2. In the second cell, request how many letters at the end of the word should be converted.\n",
    "\n",
    "3. After that, get the start of the string.\n",
    "\n",
    "4. Then, get the ending of the string, that is, the one we'll be converting.\n",
    "\n",
    "5. Then, concatenate the first and last part back together, with the last substring transformed.\n",
    "\n",
    "The output should look like the following:\n",
    "\n",
    "$$\n",
    "    alphaBRAVO\n",
    "$$\n"
   ]
  },
  {
   "cell_type": "code",
   "execution_count": null,
   "metadata": {},
   "outputs": [],
   "source": []
  },
  {
   "cell_type": "code",
   "execution_count": null,
   "metadata": {},
   "outputs": [],
   "source": []
  },
  {
   "cell_type": "code",
   "execution_count": null,
   "metadata": {},
   "outputs": [],
   "source": []
  },
  {
   "cell_type": "code",
   "execution_count": null,
   "metadata": {},
   "outputs": [],
   "source": []
  },
  {
   "cell_type": "code",
   "execution_count": null,
   "metadata": {},
   "outputs": [],
   "source": []
  },
  {
   "cell_type": "code",
   "execution_count": null,
   "metadata": {},
   "outputs": [],
   "source": []
  },
  {
   "cell_type": "markdown",
   "metadata": {},
   "source": []
  },
  {
   "cell_type": "markdown",
   "metadata": {},
   "source": []
  },
  {
   "cell_type": "code",
   "execution_count": null,
   "metadata": {},
   "outputs": [],
   "source": []
  },
  {
   "cell_type": "code",
   "execution_count": null,
   "metadata": {},
   "outputs": [],
   "source": []
  },
  {
   "cell_type": "code",
   "execution_count": null,
   "metadata": {},
   "outputs": [],
   "source": []
  },
  {
   "cell_type": "code",
   "execution_count": null,
   "metadata": {},
   "outputs": [],
   "source": []
  },
  {
   "cell_type": "code",
   "execution_count": null,
   "metadata": {},
   "outputs": [],
   "source": []
  },
  {
   "cell_type": "code",
   "execution_count": null,
   "metadata": {},
   "outputs": [],
   "source": []
  }
 ],
 "metadata": {
  "language_info": {
   "name": "python"
  }
 },
 "nbformat": 4,
 "nbformat_minor": 2
}
