{
 "cells": [
  {
   "cell_type": "markdown",
   "metadata": {},
   "source": [
    "# Lab 9.4"
   ]
  },
  {
   "cell_type": "markdown",
   "metadata": {},
   "source": [
    "\n",
    "#### Scenario\n",
    "Suppose you are designing a piece of software for a packaging company. A part of the software involves an items capacity limit mechanism to prevent a package from being shipped when it's filled past its capacity.\n",
    "\n",
    "#### Aim\n",
    "Define a class called `Package`, which will have a maximum item capacity of **6**. \n",
    "* The package should be initialized with the number of items.\n",
    "* If the number of items exceeds the capacity limit during initialization, it should print out a message indicating that the limit has been exceeded and only initialize how many items should be removed from the package.\n",
    "* Otherwise, if the number of items does not exceed the limit, it should print out a message that includes how many items are in the package.\n",
    "\n",
    "Our aim here is to practice creating class attributes.\n",
    "\n",
    "#### Steps for Completion\n",
    "\n",
    "1. Go to you `main.py` file.\n",
    "\n",
    "2. In the space provided, declare the `Package` class by adding an items limit class attribute.\n",
    "\n",
    "3. Add the initializer, which will check whether the item limit will be exceeded, and print a message indicating how many items must be removed.\n",
    "\n",
    "4. If the items limit has not been exceeded, print out the number of items in the package.\n",
    "\n",
    "5. Finally, create a `while` loop that requests the user to input the number of items and then asks if we'd like to continue.\n",
    "\n",
    "6. Create a few instances of the class declaration to test your implementation, *Snippet 7.46* shows an example: \n",
    "\n",
    "```python\n",
    "package1 = Package(6)\n",
    "print(\"There are\", package1.items, \"items in the package being shipped out.\")\n",
    "package2 = Package(10)\n",
    "print(\"There are\", package2.items, \"items in the package being shipped out.\")\n",
    "```\n",
    "<sup>*Snippet 7.46*</sup>\n",
    "\n",
    "Run the script by running the *python3 main.py* command in the terminal. The output should look similar to *Figure 7.3*:\n",
    "\n",
    "![PF1e-7-4-figure-7.3.png](https://cdn.filestackcontent.com/krquRpufSnqxMZ8OciQL)\n",
    "\n",
    "<sup>*Figure 7.3*</sup>\n"
   ]
  },
  {
   "cell_type": "code",
   "execution_count": null,
   "metadata": {},
   "outputs": [],
   "source": [
    "# Write your Package class here\n",
    "\n",
    "\n",
    "# This is to test your code\n",
    "if __name__ == '__main__':\n",
    "    morepackages = True\n",
    "    while morepackages:\n",
    "        items = int(input(\"How many items are in the package?: \"))\n",
    "        package = Package(items)\n",
    "        yn = input('Ship more packages? Y/N ')\n",
    "        morepackages = yn == 'y' or yn == 'Y'"
   ]
  }
 ],
 "metadata": {
  "language_info": {
   "name": "python"
  }
 },
 "nbformat": 4,
 "nbformat_minor": 2
}
