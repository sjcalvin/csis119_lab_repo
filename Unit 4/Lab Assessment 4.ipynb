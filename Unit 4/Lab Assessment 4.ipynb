{
 "cells": [
  {
   "cell_type": "markdown",
   "metadata": {},
   "source": [
    "# Lab Assessment 4 (Lab Assessment 3 in MindTap)"
   ]
  },
  {
   "cell_type": "markdown",
   "metadata": {},
   "source": [
    "### Scenario\n",
    "\n",
    "Abby has always dreamed of having her own ice cream shop. Now as a young entrepreneur she has decided to pursue her dream, but she needs some help in determining the financial viability of her plan. She has come up with a list of income and expense parameters and needs a simple program to input these parameters and calculate the monthly profit or loss as well as performing some variable cost what-if analysis.\n",
    "\n",
    "For expenses, she has:\n",
    "\n",
    "- Raw ingredient cost per serving\n",
    "- Hourly labor rate\n",
    "- Real estate monthly rental\n",
    "- Utilities per month\n",
    "- Monthly advertising budget\n",
    "\n",
    "On the income side, she has:\n",
    "\n",
    "- Selling price per serving (assume only one size for simplicity)\n",
    "- Number of servings sold per month\n",
    "\n",
    "Based on some research, she has determined that a single employee can run the shop and she plans to have the shop open eight hours per day and six days per week.\n",
    "\n",
    "### Best Practices to Follow:\n",
    "\n",
    "1. Write detailed comments and doc-strings.\n",
    "2. Use logical variable names with a consistent convention.\n",
    "3. Organize and structure your code for readability.\n",
    "4. Use hand calculations to verify the formulas in your code. I.e. write your own test cases to check correctness.\n",
    "\n",
    "### Steps for Completion:\n",
    "\n",
    "#### 1. Create the text-based, menu interface\n",
    "\n",
    "Use the cels below to write a Python script with a menu driven, text-based user interface that looks like this:\n",
    "\n",
    "```\n",
    "Expenses:\n",
    "1. Cost per serving: 1.0\n",
    "2. Labor rate per hour: 7.5\n",
    "3. Shop rental per month: 800\n",
    "4. Utilities per month: 150\n",
    "5. Advertising budget per month: 100\n",
    "\n",
    "Income:\n",
    "6. Selling price (each): 4.0\n",
    "7. Servings sold per month: 500\n",
    "\n",
    "Analysis:\n",
    "Enter Selection (0 to Exit):\n",
    "```\n",
    "\n",
    "In which the current parameter value is displayed but the user can select and modify each one. For Example:\n",
    "\n",
    "```\n",
    "Enter Selection (0 to Exit): 1\n",
    "Enter cost per serving:\n",
    "```\n",
    "\n",
    "Use the following as the default starting values:\n",
    "\n",
    "```\n",
    "serving_cost = 1.00\n",
    "labor_rate = 7.50\n",
    "shop_rental = 800\n",
    "utilities = 150\n",
    "advertising = 100\n",
    "servings_per_month = 1000\n",
    "selling_price = 4.00\n",
    "```"
   ]
  },
  {
   "cell_type": "markdown",
   "metadata": {},
   "source": [
    "#### 2. Add Profit/Loss functionality\n",
    "\n",
    "At this point, your script should allow the user to input values for all the variables needed to calculate the profit (or loss) of Abby’s Ice Cream business. To add this functionality, start by adding the menu item\n",
    "\n",
    "```\n",
    "8. Profit/Loss Calculation\n",
    "```\n",
    "\n",
    "under the **Analysis** section of the menu. If the user selects option **8**, the script should display something like the following:\n",
    "\n",
    "```\n",
    "Enter Selection (0 to Exit): 8\n",
    "The Ice Cream Shop will have a monthly profit/loss of 90.0 or 0.18 per serving.\n",
    "```\n",
    "\n",
    "In order to perform these calculations, you’ll have to think back to Algebra and calculate things like the total expenses and the total income on a monthly basis. Finally, in order to keep the values in monetary precision, you can use the `round()` function with a precision of **2**."
   ]
  },
  {
   "cell_type": "markdown",
   "metadata": {},
   "source": [
    "#### 3. Add \"What if\" analysis\n",
    "\n",
    "Add the following item to your menu:\n",
    "\n",
    "```\n",
    "9. \"What If\" analysis with 10% variance\n",
    "```\n",
    "\n",
    "If the user selects option **9**, the script should vary the expenses followed by the income from negative to positive ten percent by increments of **2**. This will help Abby with some “what-if” calculations:\n",
    "\n",
    "```\n",
    "Enter Selection (0 to Exit): 9\n",
    "\n",
    "Varying the Expenses From -10% to +10%::\n",
    "Percent:  -10 Expenses:  3141.0 Profit/Loss:  859.0\n",
    "Percent:  -8 Expenses:  3210.8 Profit/Loss:  789.2\n",
    "Percent:  -6 Expenses:  3280.6 Profit/Loss:  719.4\n",
    "Percent:  -4 Expenses:  3350.4 Profit/Loss:  649.6\n",
    "Percent:  -2 Expenses:  3420.2 Profit/Loss:  579.8\n",
    "Percent:  0 Expenses:  3490.0 Profit/Loss:  510.0\n",
    "Percent:  2 Expenses:  3559.8 Profit/Loss:  440.2\n",
    "Percent:  4 Expenses:  3629.6 Profit/Loss:  370.4\n",
    "Percent:  6 Expenses:  3699.4 Profit/Loss:  300.6\n",
    "Percent:  8 Expenses:  3769.2 Profit/Loss:  230.8\n",
    "\n",
    "Varying the Income From -10% to +10%::\n",
    "Percent:  -10 Income:  3600.0 Profit/Loss:  110.0\n",
    "Percent:  -8 Income:  3680.0 Profit/Loss:  190.0\n",
    "Percent:  -6 Income:  3760.0 Profit/Loss:  270.0\n",
    "Percent:  -4 Income:  3840.0 Profit/Loss:  350.0\n",
    "Percent:  -2 Income:  3920.0 Profit/Loss:  430.0\n",
    "Percent:  0 Income:  4000.0 Profit/Loss:  510.0\n",
    "Percent:  2 Income:  4080.0 Profit/Loss:  590.0\n",
    "Percent:  4 Income:  4160.0 Profit/Loss:  670.0\n",
    "Percent:  6 Income:  4240.0 Profit/Loss:  750.0\n",
    "Percent:  8 Income:  4320.0 Profit/Loss:  830.0\n",
    "```\n",
    "\n",
    "> In all these calculations, assume that the shop operates with a single employee for eight hours per day, six days a week, for four weeks."
   ]
  },
  {
   "cell_type": "markdown",
   "metadata": {},
   "source": [
    "#### 4. Make it your own\n",
    "\n",
    "Add functionality that will that use the current expenses and sales volume but vary the sale price until the \"break-even\" point is found. If the initial calculation is positive then reduce the price iteratively and if negative, increase the price iteratively (think loop). Note: Your algorithm doesn't have to find the exact break-even point, only the point where it changes from negative to positive or positive to negative. This is the price where the shop “breaks even”:\n",
    "\n",
    "```\n",
    "10. Find Break-Even\n",
    "\n",
    "Enter Selection (0 to Exit): 10\n",
    "Break-Even occurs with a selling price of: 5.7\n",
    "```"
   ]
  },
  {
   "cell_type": "markdown",
   "metadata": {},
   "source": [
    "#### 5. Code.\n",
    "\n",
    "Use the following cells to develop your code. Feel free to use multiple cells to gauge and test your various outputs."
   ]
  },
  {
   "cell_type": "code",
   "execution_count": null,
   "metadata": {},
   "outputs": [],
   "source": []
  },
  {
   "cell_type": "code",
   "execution_count": null,
   "metadata": {},
   "outputs": [],
   "source": []
  },
  {
   "cell_type": "code",
   "execution_count": null,
   "metadata": {},
   "outputs": [],
   "source": []
  },
  {
   "cell_type": "code",
   "execution_count": null,
   "metadata": {},
   "outputs": [],
   "source": []
  },
  {
   "cell_type": "markdown",
   "metadata": {},
   "source": [
    "#### 6. Deliverable.\n",
    "\n",
    "Once your code is working, save this notebook and upload it as an attachment on a submission comment on Lab Assessment 4 assignment in Canvas."
   ]
  }
 ],
 "metadata": {
  "language_info": {
   "name": "python"
  }
 },
 "nbformat": 4,
 "nbformat_minor": 2
}
