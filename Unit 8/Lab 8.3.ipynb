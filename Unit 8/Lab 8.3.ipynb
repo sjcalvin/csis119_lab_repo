{
 "cells": [
  {
   "cell_type": "markdown",
   "metadata": {},
   "source": [
    "Lab 8.3"
   ]
  },
  {
   "cell_type": "markdown",
   "metadata": {},
   "source": [
    "#### Scenario\n",
    "\n",
    "You are completing some code, but you have an unhandled error. What do you do to make sure that the error doesn't stop your program prematurely?\n",
    "\n",
    "#### Aim\n",
    "\n",
    "In this activity, we will practice handling errors. The code beow that throws an error.\n",
    "\n",
    "The following code throws an error:\n",
    "\n",
    "```python\n",
    "import random\n",
    "```\n",
    "print(random.randinteger(5,15))\n",
    "\n",
    "Identify and handle the error so that when it occurs, the message is printed to the terminal.\n",
    "\n",
    "#### Steps for Completion\n",
    "\n",
    "1. Take the code block from above, and amend to it so that it catches the error, using a `try… except` block.\n",
    "\n",
    "3. Within the `try... except` block make the exception look for an `AttriubuteError` and print **Double check the attributes in your code and try again.**"
   ]
  },
  {
   "cell_type": "code",
   "execution_count": null,
   "metadata": {},
   "outputs": [],
   "source": []
  },
  {
   "cell_type": "code",
   "execution_count": null,
   "metadata": {},
   "outputs": [],
   "source": []
  }
 ],
 "metadata": {
  "language_info": {
   "name": "python"
  }
 },
 "nbformat": 4,
 "nbformat_minor": 2
}
