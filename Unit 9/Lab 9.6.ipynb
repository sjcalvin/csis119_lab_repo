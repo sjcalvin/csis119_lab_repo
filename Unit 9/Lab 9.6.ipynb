{
 "cells": [
  {
   "cell_type": "markdown",
   "metadata": {},
   "source": [
    "# Lab 9.6"
   ]
  },
  {
   "cell_type": "markdown",
   "metadata": {
    "vscode": {
     "languageId": "plaintext"
    }
   },
   "source": [
    "\n",
    "#### Scenario\n",
    "Suppose you work for a wildlife conservation organization. You are working on creating a system to educate the general public about different animals and get them more interested in conservation.\n",
    "\n",
    "#### Aim\n",
    "Create a `Eagle` class that inherits from the `Bird` class and has a clutch size (eggs laid in one nesting) attribute. Change the behavior of instances of the `Eagle` class to include this clutch size fact when they're printed.\n",
    "\n",
    "#### Steps for Completion\n",
    "\n",
    "1. Go to your *main.py* file.\n",
    "\n",
    "2. Define the `Eagle` class that inherits from the `Bird` class. Override the `__init__` initializer method and add a `clutch_size` attribute with the value of **3**.\n",
    "\n",
    "3. Override the `__str__` method and modify it to include mention of the clutch size.\n",
    "\n",
    "4. At the bottom of the script we have initialized an instance of the `Eagle` class and called `print` on the instance, which should display facts about the eagle.\n",
    "\n",
    "Run the script by using *python3 main.py* in the terminal. The output should be as shown in *Snippet 7.86*:\n",
    "\n",
    "```\n",
    "The eagle has a wingspan up to 7.5ft, has a lifespan of 20 years and can fly at a maximum speed of 99mph. It also has a clutch size up to 3.\n",
    "```\n",
    "<sup>*Snippet 7.86*</sup>\n"
   ]
  },
  {
   "cell_type": "code",
   "execution_count": null,
   "metadata": {},
   "outputs": [],
   "source": [
    "class Bird:\n",
    "    def __init__(self, wingspan, lifespan, speed):\n",
    "        self.wingspan = wingspan\n",
    "        self.lifespan_in_years = lifespan\n",
    "        self.speed_in_mph = speed\n",
    "\n",
    "    def __str__(self):\n",
    "        return f\"The {type(self).__name__.lower()} \"\\\n",
    "            f\"has a wingspan up to {self.wingspan}ft,\"\\\n",
    "            f\" has a lifespan of {self.lifespan_in_years} years and \"\\\n",
    "            f\"can fly at a maximum speed of {self.speed_in_mph}mph.\"\n",
    "\n",
    "# Write your Eagle class here\n",
    "\n",
    "\n",
    "\n",
    "\n",
    "# This code is used to test your class\n",
    "if __name__ == '__main__':\n",
    "    eagle = Eagle(7.5, 20, 99)\n",
    "    print(eagle)"
   ]
  }
 ],
 "metadata": {
  "kernelspec": {
   "display_name": ".venv",
   "language": "python",
   "name": "python3"
  },
  "language_info": {
   "name": "python",
   "version": "3.10.13"
  }
 },
 "nbformat": 4,
 "nbformat_minor": 2
}
