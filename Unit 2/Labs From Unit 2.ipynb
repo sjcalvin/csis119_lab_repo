{
 "cells": [
  {
   "cell_type": "markdown",
   "metadata": {},
   "source": [
    "# Unit 2 Lab Activities."
   ]
  },
  {
   "cell_type": "markdown",
   "metadata": {},
   "source": [
    "### Lab 2.1"
   ]
  },
  {
   "cell_type": "markdown",
   "metadata": {},
   "source": [
    "#### Scenario\n",
    "\n",
    "You are checking different simple commands in a Python Shell.\n",
    "\n",
    "#### Aim\n",
    "\n",
    "Perform some basic operations using the `ipython3` interactive shell.\n",
    "\n",
    "#### Steps for Completion\n",
    "\n",
    "Complete the tasks below by entering the code into the following cells:\n",
    "\n",
    "1. Using the `print` function, print **Happy Earth Day** to the console.\n",
    "2. Run `24 + 6 * 3` in the console.\n",
    "3. Using the `print` function, print the numbers **0** to **6** on a single row to the console."
   ]
  },
  {
   "cell_type": "markdown",
   "metadata": {},
   "source": [
    "Task 1."
   ]
  },
  {
   "cell_type": "code",
   "execution_count": null,
   "metadata": {},
   "outputs": [],
   "source": []
  },
  {
   "cell_type": "markdown",
   "metadata": {},
   "source": [
    "Task 2."
   ]
  },
  {
   "cell_type": "code",
   "execution_count": null,
   "metadata": {},
   "outputs": [],
   "source": []
  },
  {
   "cell_type": "markdown",
   "metadata": {},
   "source": [
    "Task 3."
   ]
  },
  {
   "cell_type": "code",
   "execution_count": null,
   "metadata": {},
   "outputs": [],
   "source": []
  },
  {
   "cell_type": "markdown",
   "metadata": {},
   "source": [
    "### Lab 2.2"
   ]
  },
  {
   "cell_type": "markdown",
   "metadata": {},
   "source": [
    "#### Scenario\n",
    "You have been asked to generate a simple Python script that will print a name card consisting of the initials of a name and a nickname. \n",
    "\n",
    "#### Aim\n",
    "Create a Python Script that executes from the command line. It should take the initials and nickname of a name as arguments and give the output as shown in *Figure 1.6*. \n",
    "\n",
    "#### Steps for Completion\n",
    "1. In the cell below, import the `sys` built-in python module.\n",
    "2. In the next cell, use two `print` statements to print `Initials:` and `Nickname:`. Also, use these print statements to print 20 dashes (`-`) as borders above and below the initials and nickname.\n",
    "3. In the next cell two parameters should be passed with the script: one for the initials and the second for the nickname.\n",
    "4. Run the script with the *python3 main.py* command and pass two string arguments.\n",
    "\n",
    "> If upon run you get the following error: *IndexError: list index out of range*. Make sure to pass two string arguments when running the script, like the example below. \n",
    "\n",
    "Your output should be similar to *Figure 1.6*:\n",
    "\n",
    "![PF1e_1-2-figure-1.6.png](https://cdn.filestackcontent.com/5gDcPNiRE7wGbx8e8ZlQ)\n",
    "\n",
    "<sup>*Figure 1.6*</sup>\n"
   ]
  },
  {
   "cell_type": "code",
   "execution_count": 1,
   "metadata": {},
   "outputs": [],
   "source": []
  },
  {
   "cell_type": "code",
   "execution_count": null,
   "metadata": {},
   "outputs": [],
   "source": []
  },
  {
   "cell_type": "code",
   "execution_count": null,
   "metadata": {},
   "outputs": [],
   "source": []
  },
  {
   "cell_type": "markdown",
   "metadata": {},
   "source": [
    "### Lab 2.3 A"
   ]
  },
  {
   "cell_type": "markdown",
   "metadata": {},
   "source": [
    "#### Scenario\n",
    "\n",
    "You are creating a simple Python script that takes a distance and a completion time and outputs the speed in knots, miles per hour, and feet per second.\n",
    "\n",
    "#### Aim\n",
    "\n",
    "Using variables write a script that defines a distance of 60 miles and a completion time of 3 hours. The output should show a completion speed in miles per hour, knots, and feet per second.\n",
    "\n",
    "Here are some hints:\n",
    "\n",
    "- The formula for calculating speed is **distance/time = speed**.\n",
    "- To convert miles to knots, divide the miles by 1.15078.\n",
    "- To convert miles to feet, multiply the miles by 5280.\n",
    "- To convert hours to seconds, multiply hours by 3600.\n",
    "- The output should resemble _Figure 1.8_ shown below.\n",
    "\n",
    "#### Steps for Completion\n",
    "\n",
    "1. On the first two lines of the first cell, declare two variables for the distance in miles and time in hours and assign the values **60** and **3**, respectively.\n",
    "\n",
    "2. In the next cell, calculate the distance in knots and distance in feet based on the distance in miles.\n",
    "\n",
    "3. Then, calculate the time in seconds based on the time in hours.\n",
    "\n",
    "4. Next, calculate the speed in knots, speed in miles per hour, and speed in feet per second.\n",
    "\n",
    "5. Finally, add `print` statements to print out the results.\n",
    "\n",
    "The output should be like _Figure 1.8_, shown below:\n",
    "\n",
    "![PF1e_1-3A-figure-1.8.png](https://cdn.filestackcontent.com/YrcPucXyQ9u9BeuFX2Nx)\n",
    "\n",
    "<sup>_Figure 1.8_</sup>"
   ]
  },
  {
   "cell_type": "code",
   "execution_count": null,
   "metadata": {},
   "outputs": [],
   "source": []
  },
  {
   "cell_type": "code",
   "execution_count": null,
   "metadata": {},
   "outputs": [],
   "source": []
  },
  {
   "cell_type": "code",
   "execution_count": null,
   "metadata": {},
   "outputs": [],
   "source": []
  },
  {
   "cell_type": "code",
   "execution_count": null,
   "metadata": {},
   "outputs": [],
   "source": []
  },
  {
   "cell_type": "markdown",
   "metadata": {},
   "source": [
    "### Lab 2.3 B"
   ]
  },
  {
   "cell_type": "markdown",
   "metadata": {},
   "source": [
    "#### Scenario\n",
    "You are creating a simple Python script that calculates the diameter and area of a circle. \n",
    "\n",
    "#### Aim\n",
    "Using a Python script run on the command line,  calculate the diameter and area of a circle with a radius of 3. In this activity, we'll get better acquainted with variable assignment as well as variable naming conventions. \n",
    "\n",
    "Here are some hints: \n",
    "\n",
    "- The formula for calculating diameter is **2 \\* r**.\n",
    "- The formula for calculating area is **π \\* r^2** , **r** being the radius. \n",
    "- π can be approximated to 3.14159. \n",
    "\n",
    "#### Steps for Completion\n",
    "\n",
    "1. On the first two lines of the first cell, declare your constant, π (`PI`), and the `radius` of the circle with a value of **3**  \n",
    "\n",
    "2. Then, Write the lines to run your calculations. \n",
    "\n",
    "4. Lastly, display the results by using `print` statements. \n",
    "\n",
    "The output should look like *Figure 1.9*:\n",
    "\n",
    "![PF1e_1-3B-figure-1.9.png](https://cdn.filestackcontent.com/xthMxHQaax4PVItrDYlQ)\n",
    "\n",
    "<sup>*Figure 1.9*</sup>\n",
    "\n",
    ">Hint: To calculate an exponent use ** as ^ in the code editor window."
   ]
  },
  {
   "cell_type": "code",
   "execution_count": null,
   "metadata": {},
   "outputs": [],
   "source": []
  },
  {
   "cell_type": "code",
   "execution_count": null,
   "metadata": {},
   "outputs": [],
   "source": []
  },
  {
   "cell_type": "code",
   "execution_count": null,
   "metadata": {},
   "outputs": [],
   "source": []
  },
  {
   "cell_type": "code",
   "execution_count": null,
   "metadata": {},
   "outputs": [],
   "source": []
  },
  {
   "cell_type": "markdown",
   "metadata": {},
   "source": [
    "### Lab 2.4 A"
   ]
  },
  {
   "cell_type": "markdown",
   "metadata": {},
   "source": [
    "#### Scenario\n",
    "\n",
    "You have been given some Python code that doesn't work due to syntax errors and you need to fix the code by correcting poor indentations.\n",
    "\n",
    "#### Aim\n",
    "\n",
    "To fix the code snippet in the following cell from the code bundle to have the appropriate indentation in each block. After you fix it, run the cell and verify that you get the output. Don't worry if you don't understand what the code is doing; the goal is to get comfortable with indentations. The incorrect code is also shown in _Snippet 1.71_ below:\n",
    "\n",
    "```python\n",
    "if 14 > 7:\n",
    "    print(\"Greater than\")\n",
    "   x = 2\n",
    "  print(x * 7)\n",
    "else:\n",
    "    print(\"Less than\")\n",
    "   print(7)\n",
    "```\n",
    "\n",
    "<sup>_Snippet 1.71_</sup>\n",
    "\n",
    "> Hint: Indentation for statements in a block is dictated by the first statement's indentation level.\n",
    "\n",
    "The output of the correct syntax should be as shown in _Snippet 1.72_:\n",
    "\n",
    "```\n",
    "Greater than\n",
    "14\n",
    "```\n",
    "\n",
    "<sup>_Snippet 1.72_</sup>\n"
   ]
  },
  {
   "cell_type": "code",
   "execution_count": null,
   "metadata": {},
   "outputs": [],
   "source": [
    "if 14 > 7:\n",
    "    print(\"Greater than\")\n",
    "   x = 2\n",
    "  print(x * 7)\n",
    "else:\n",
    "    print(\"Less than\")\n",
    "   print(7)"
   ]
  },
  {
   "cell_type": "markdown",
   "metadata": {},
   "source": [
    "### Lab 2.4 B"
   ]
  },
  {
   "cell_type": "markdown",
   "metadata": {},
   "source": [
    "#### Aim\n",
    "\n",
    "Write code that takes a whole number from a user’s input and prints out its 2's multiplication table till 10.\n",
    "\n",
    "#### Steps for Completion\n",
    "\n",
    "1. On the first line of the first cell assign a variable called **whole_num** to the user’s input and cast it to an integer.\n",
    "\n",
    "2. Next, print 10 underscores as the top border of the table.\n",
    "\n",
    "3. Then, print your whole number, then multiply your whole number by multiples of 2's till 10 and print that out.\n",
    "\n",
    "4. Finally, print 10 underscores again for the bottom border of the table, as in step 3.\n",
    "\n",
    "The output should be like _Figure 1.10_:\n",
    "\n",
    "![PF1e_1-4B-figure-1.10.png](https://cdn.filestackcontent.com/BH2LlGwRKSa8nP0549Pg)\n",
    "\n",
    "<sup>_Figure 1.10_</sup>"
   ]
  },
  {
   "cell_type": "code",
   "execution_count": null,
   "metadata": {},
   "outputs": [],
   "source": []
  },
  {
   "cell_type": "code",
   "execution_count": null,
   "metadata": {},
   "outputs": [],
   "source": []
  },
  {
   "cell_type": "code",
   "execution_count": null,
   "metadata": {},
   "outputs": [],
   "source": []
  },
  {
   "cell_type": "code",
   "execution_count": null,
   "metadata": {},
   "outputs": [],
   "source": []
  }
 ],
 "metadata": {
  "kernelspec": {
   "display_name": "csis119",
   "language": "python",
   "name": "python3"
  },
  "language_info": {
   "codemirror_mode": {
    "name": "ipython",
    "version": 3
   },
   "file_extension": ".py",
   "mimetype": "text/x-python",
   "name": "python",
   "nbconvert_exporter": "python",
   "pygments_lexer": "ipython3",
   "version": "3.12.1"
  }
 },
 "nbformat": 4,
 "nbformat_minor": 2
}
