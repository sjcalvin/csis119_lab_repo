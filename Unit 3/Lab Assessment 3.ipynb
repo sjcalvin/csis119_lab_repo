{
 "cells": [
  {
   "cell_type": "markdown",
   "metadata": {},
   "source": [
    "#### Scenario\n",
    "\n",
    "You have been tasked with building a URL file validator for a web crawler. A web crawler is an application that fetches a web page, extracts the URLs present in that page, and then recursively fetches new pages using the extracted URLs. The end goal of a web crawler is to collect text data, images, or other resources present in order to validate resource URLs or hyperlinks on a page. URL validators can be useful to validate if the extracted URL is a valid resource to fetch. In this scenario, you will build a URL validator that checks for supported protocols and file types.\n",
    "\n",
    "#### Introducing a split function:\n",
    "\n",
    "A split function is a string method. It is used to create a list of words that is separated by a particular delimiter.\n",
    "\n",
    "A delimiter can be any character, comma, or space, or any word. For example, a student’s details (that is, name, age, and language) are given as a **“John,25,English”** string, and if you want to create a list. The string is delimited by “,”:\n",
    "\n",
    "```\n",
    "#example-1\n",
    "\tstudent_detail = “John,25,English”.split(“,”)\n",
    "\tprint(student_detail)\n",
    "\t[“John”, “25”, “English”]\n",
    "```\n",
    "\n",
    "```\n",
    "#example-2\n",
    "\tstudent_detail = “John|25|English”.split(“|”)\n",
    "\tprint(student_detail)\n",
    "\t[“John”, “25”, “English”]\n",
    "```\n",
    "\n",
    "#### Validation\n",
    "\n",
    "A URL is in the form of `<Protocol>://<hostname>/<fileinfo>`. In order to be a valid URL, it must fulfill the following requirements:\n",
    "\n",
    "**Protocol**: This can be any value from given list, such as `http`, `https`, or `ftp`.\n",
    "\n",
    "**Hostname**: Any string\n",
    "\n",
    "**File extension**: `fileinfo` can be any filename, but it must have an extension from given list (such as `.html`, `.csv`, `.docx`, `.jpg`, `.png`, or `.gif`).\n",
    "\n",
    "Let’s have a look at a few URL examples below:\n",
    "\n",
    "```\n",
    "Input: https://www.technotification.com/2018/06/best-programming-blog.html\n",
    "\n",
    "Output: True\n",
    "```\n",
    "\n",
    "```\n",
    "Input: rstp://www.technotification.com/2018/06/best-programming-blog.html\n",
    "\n",
    "Output: False (an invalid protocol)\n",
    "```\n",
    "\n",
    "```\n",
    "Input: http://spatialkeydocs.s3.amazonaws.com/FL_insurance_sample.csv\n",
    "\n",
    "Output: True\n",
    "```\n",
    "\n",
    "```\n",
    "Input: http://spatialkeydocs.s3.amazonaws.com/FL_insurance_sample/\n",
    "\n",
    "Output: False (an invalid file extension)\n",
    "```\n",
    "\n",
    "> (Problem here is to validate a resource URL, not a valid link.)\n",
    "\n",
    "`URL = <Protocol>://<hostname>/<fileinfo>`\n",
    "\n",
    "#### Best Practices to Follow:\n",
    "\n",
    "1. Writing detailed comments and docstrings\n",
    "2. Organizing and structuring code for readability\n",
    "3. `URL = <Protocol>://<hostname>/<fileinfo>`\n",
    "\n",
    "#### Steps for Completion\n"
   ]
  },
  {
   "cell_type": "markdown",
   "metadata": {},
   "source": [
    "Step 1: Create two lists of strings – one list for **Protocol** called `valid_protocols`, and one list for storing **File** extension called `valid_fileinfo`. For this take the protocol list should be restricted to `http`, `https` and `ftp`. The file extension list should be `.html`, `.csv` and `.docx`."
   ]
  },
  {
   "cell_type": "code",
   "execution_count": null,
   "metadata": {},
   "outputs": [],
   "source": []
  },
  {
   "cell_type": "markdown",
   "metadata": {},
   "source": [
    "Step 2: Split an input named `url`, and then use the first element to see whether the protocol of the URL is in `valid_protocols`. Similarly, check whether the URL contains a valid `file_info`. Write the conditions to return a Boolean value of `True` if the URL is valid, and `False` if either the **Protocol** or the **File** extension is not valid."
   ]
  },
  {
   "cell_type": "code",
   "execution_count": null,
   "metadata": {},
   "outputs": [],
   "source": []
  },
  {
   "cell_type": "code",
   "execution_count": null,
   "metadata": {},
   "outputs": [],
   "source": []
  },
  {
   "cell_type": "code",
   "execution_count": null,
   "metadata": {},
   "outputs": [],
   "source": []
  },
  {
   "cell_type": "markdown",
   "metadata": {},
   "source": [
    "#### Make it your own (Optional)\n",
    "\n",
    "Use the requests package to download the data of the resource URL if valid.\n",
    "Note: Adding packages to your Python project\n",
    "Python has a wealth of built-in functionality; however, as with most languages, there comes a time to put more “tools in the toolbox”. This is done by importing packages into Python using the `import` keyword. However, what if your computer doesn’t have a particular package installed? The answer is `pip` which is Python’s utility for installing packages and is bundled with Python for versions 3.4 and later. There are a number of things that `pip` can do but the most common uses are installing a package, uninstalling a package, and listing the installed packages.\n",
    "\n",
    "This is done from the command line as follows:\n",
    "\n",
    "• Install a Package: `pip install <somePackage>` (Example: `pip install requests`).\n",
    "\n",
    "• Uninstall a Package: `pip uninstall <somePackage>` (Example: `pip uninstall requests`).\n",
    "\n",
    "• List installed packages: `pip list`.\n"
   ]
  },
  {
   "cell_type": "code",
   "execution_count": null,
   "metadata": {},
   "outputs": [],
   "source": []
  },
  {
   "cell_type": "code",
   "execution_count": null,
   "metadata": {},
   "outputs": [],
   "source": []
  },
  {
   "cell_type": "code",
   "execution_count": null,
   "metadata": {},
   "outputs": [],
   "source": []
  }
 ],
 "metadata": {
  "language_info": {
   "name": "python"
  }
 },
 "nbformat": 4,
 "nbformat_minor": 2
}
