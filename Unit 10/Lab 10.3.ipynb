{
 "cells": [
  {
   "cell_type": "markdown",
   "metadata": {},
   "source": [
    "# Lab 10.3"
   ]
  },
  {
   "cell_type": "markdown",
   "metadata": {},
   "source": [
    "## A."
   ]
  },
  {
   "cell_type": "markdown",
   "metadata": {},
   "source": [
    "#### Scenario\n",
    "\n",
    "You want to check the attributes of itertools.\n",
    "\n",
    "#### Aim\n",
    "\n",
    "Use built-in Python functions to inspect modules.\n",
    "\n",
    "#### Steps for Completion\n",
    "\n",
    "1. Start by entering `import itertools`.\n",
    "2. Use the relevant built-in `dir` function to inspect the resources defined in the `itertools` module.\n",
    "3. Use the relevant built-in `help` function to read about how to use the `itertools` library."
   ]
  },
  {
   "cell_type": "code",
   "execution_count": null,
   "metadata": {
    "vscode": {
     "languageId": "plaintext"
    }
   },
   "outputs": [],
   "source": []
  },
  {
   "cell_type": "markdown",
   "metadata": {},
   "source": [
    "## B."
   ]
  },
  {
   "cell_type": "markdown",
   "metadata": {},
   "source": [
    "#### Scenario\n",
    "You are implementing a program at work and you need to use a package that you have never interacted with before. You find that you need to write a script using the directory method to list all resources that are available in that package.\n",
    "\n",
    "#### Aim\n",
    "Use a function which will take a package or module name and print out the names of all the resources defined in the package or module using the directory method.\n",
    "\n",
    "#### Steps for Completion\n",
    "1. Define a function called `resources_scanner` that takes an argument `package`.\n",
    "2. Using the `dir` method create a variable to list all the resources that are available in that package.\n",
    "3. Inside the function, use a `for` statement to print and list each of the package’s resources.\n",
    "\n",
    "Run your script using the cell below command in the terminal or by importing and calling your method in the interactive python shell. The output should be as shown in below:\n",
    "\n",
    "```python\n",
    ">>> resources_scanner(string)\n",
    "Formatter\n",
    "Template\n",
    "_ChainMap\n",
    "_TemplateMetaclass\n",
    "__all__\n",
    "__builtins__\n",
    "__cached__\n",
    "__doc__\n",
    "__file__\n",
    "__loader__\n",
    "__name__\n",
    "__package__\n",
    "__spec__\n",
    "_re\n",
    "_string\n",
    "ascii_letters\n",
    "ascii_lowercase\n",
    "ascii_uppercase\n",
    "capwords\n",
    "digits\n",
    "hexdigits\n",
    "octdigits\n",
    "printable\n",
    "punctuation\n",
    "whitespace\n",
    "```"
   ]
  },
  {
   "cell_type": "code",
   "execution_count": null,
   "metadata": {
    "vscode": {
     "languageId": "plaintext"
    }
   },
   "outputs": [],
   "source": []
  },
  {
   "cell_type": "markdown",
   "metadata": {},
   "source": [
    "## C."
   ]
  },
  {
   "cell_type": "markdown",
   "metadata": {
    "vscode": {
     "languageId": "plaintext"
    }
   },
   "source": [
    "#### Scenario\n",
    "Build a random number generator using in built Python resources.\n",
    "\n",
    "#### Aim\n",
    "Write a function called `number_randomizer` whose purpose is to generate random integers between 0 and 100.\n",
    "\n",
    "The function should use the resources defined in the built-in `random` module. It should take one argument, `num`, which is an integer, and return a list containing `num` random numbers.\n",
    "\n",
    "For example, calling the function with 6 returns a list of six random numbers as shown in *Snippet 8.38*:\n",
    "```python\n",
    ">>> number_randomizer(6)\n",
    "[21, 63, 89, 57, 40, 74]\n",
    "```\n",
    "<sup>*Snippet 8.38*</sup>\n",
    "\n",
    "#### Steps for Completion\n",
    "1. Import the `random` module.\n",
    "2. Define a function named `number_randomizer`.\n",
    "3. Inside the function, use a `for` looping statement and the resources from our imported module to generate random numbers.\n",
    "4. Using the `number_randomizer` function print the random output numbers for:\n",
    "\t* 2 random numbers\n",
    "\t* 4 random numbers\n",
    "\t* 6 random numbers\n",
    "\n",
    "Running the script with *python3 main.py* should result in something similar to *Snippet 8.39*:\n",
    "\n",
    "```\n",
    "[83, 88]\n",
    "[82, 80, 44, 13]\n",
    "[72, 97, 87, 30, 27, 18]\n",
    "```\n",
    "<sup>*Snippet 8.39*</sup>\n",
    "\n",
    "> Please note that your output will differ every time the program is executed."
   ]
  },
  {
   "cell_type": "code",
   "execution_count": null,
   "metadata": {
    "vscode": {
     "languageId": "plaintext"
    }
   },
   "outputs": [],
   "source": []
  }
 ],
 "metadata": {
  "language_info": {
   "name": "python"
  }
 },
 "nbformat": 4,
 "nbformat_minor": 2
}
