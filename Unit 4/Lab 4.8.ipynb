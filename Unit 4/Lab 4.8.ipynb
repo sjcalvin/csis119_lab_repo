{
 "cells": [
  {
   "cell_type": "markdown",
   "metadata": {},
   "source": [
    "# Lab 4.8 (3.8 in MindTap)"
   ]
  },
  {
   "cell_type": "markdown",
   "metadata": {},
   "source": [
    "# Aim\n",
    "Write a simple nested loop example that sums the even and odd numbers between **5** and **15** and prints out the computation.\n",
    "\n",
    "# Steps for Completion\n",
    "\n",
    "1. Write a `for` loop with a `range` function for even numbers.\n",
    "\n",
    "2. Write a `for` loop with a `range` function for odd numbers.\n",
    "\n",
    "3. Use a variable called `calc` to calculate the sum of even and odd numbers.\n",
    "\n",
    "4. Print the computation of each even number plus the odd number equal to `calc` to the terminal.\n",
    "\n",
    "The output will be as shown:\n",
    "\n",
    "```\n",
    "6 + 5 = 11\n",
    "6 + 7 = 13\n",
    "6 + 9 = 15\n",
    "6 + 11 = 17\n",
    "6 + 13 = 19\n",
    "8 + 5 = 13\n",
    "8 + 7 = 15\n",
    "8 + 9 = 17\n",
    "8 + 11 = 19\n",
    "8 + 13 = 21\n",
    "10 + 5 = 15\n",
    "10 + 7 = 17\n",
    "10 + 9 = 19\n",
    "10 + 11 = 21\n",
    "10 + 13 = 23\n",
    "12 + 5 = 17\n",
    "12 + 7 = 19\n",
    "12 + 9 = 21\n",
    "12 + 11 = 23\n",
    "12 + 13 = 25\n",
    "14 + 5 = 19\n",
    "14 + 7 = 21\n",
    "14 + 9 = 23\n",
    "14 + 11 = 25\n",
    "14 + 13 = 27\n",
    "```"
   ]
  },
  {
   "cell_type": "code",
   "execution_count": null,
   "metadata": {},
   "outputs": [],
   "source": []
  }
 ],
 "metadata": {
  "language_info": {
   "name": "python"
  }
 },
 "nbformat": 4,
 "nbformat_minor": 2
}
