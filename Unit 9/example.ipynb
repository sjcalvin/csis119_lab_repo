{
 "cells": [
  {
   "cell_type": "markdown",
   "metadata": {},
   "source": [
    "Define a class"
   ]
  },
  {
   "cell_type": "code",
   "execution_count": 1,
   "metadata": {},
   "outputs": [],
   "source": [
    "class character:\n",
    "\n",
    "    pass"
   ]
  },
  {
   "cell_type": "markdown",
   "metadata": {},
   "source": [
    "Initialize an object."
   ]
  },
  {
   "cell_type": "code",
   "execution_count": 2,
   "metadata": {},
   "outputs": [],
   "source": [
    "doc_brown = character()\n",
    "marty = character()"
   ]
  },
  {
   "cell_type": "markdown",
   "metadata": {},
   "source": [
    "Add Attributes..."
   ]
  },
  {
   "cell_type": "code",
   "execution_count": 3,
   "metadata": {},
   "outputs": [],
   "source": [
    "doc_brown.occupation = ['mad_scientist', 'inventor']\n",
    "doc_brown.friends = ['marty']\n",
    "doc_brown.red_letter_date = 'Nov 5, 1955'\n",
    "doc_brown.time_machines = ['delorean', 'flying_locomotive']\n",
    "\n",
    "marty.occupation = ['high_school_student']\n",
    "marty.friends = ['doc_brown', 'jennifer']\n",
    "marty.time_machines = ['delorian']"
   ]
  },
  {
   "cell_type": "markdown",
   "metadata": {},
   "source": [
    "Look at the Attributes."
   ]
  },
  {
   "cell_type": "code",
   "execution_count": 4,
   "metadata": {},
   "outputs": [
    {
     "data": {
      "text/plain": [
       "{'occupation': ['mad_scientist', 'inventor'],\n",
       " 'friends': ['marty'],\n",
       " 'red_letter_date': 'Nov 5, 1955',\n",
       " 'time_machines': ['delorean', 'flying_locomotive']}"
      ]
     },
     "execution_count": 4,
     "metadata": {},
     "output_type": "execute_result"
    }
   ],
   "source": [
    "doc_brown.__dict__"
   ]
  },
  {
   "cell_type": "code",
   "execution_count": 5,
   "metadata": {},
   "outputs": [
    {
     "data": {
      "text/plain": [
       "{'occupation': ['high_school_student'],\n",
       " 'friends': ['doc_brown', 'jennifer'],\n",
       " 'time_machines': ['delorian']}"
      ]
     },
     "execution_count": 5,
     "metadata": {},
     "output_type": "execute_result"
    }
   ],
   "source": [
    "marty.__dict__"
   ]
  },
  {
   "cell_type": "markdown",
   "metadata": {},
   "source": [
    "Redefine the character class with an __init__ method."
   ]
  },
  {
   "cell_type": "code",
   "execution_count": 6,
   "metadata": {},
   "outputs": [],
   "source": [
    "class character:\n",
    "\n",
    "    def __init__(self, occupation):\n",
    "\n",
    "        self.occupation = occupation"
   ]
  },
  {
   "cell_type": "code",
   "execution_count": 7,
   "metadata": {},
   "outputs": [],
   "source": [
    "class time_period:\n",
    "\n",
    "    def __init__(self, date, location):\n",
    "\n",
    "        self.visitor = date\n",
    "        self.location = location"
   ]
  },
  {
   "cell_type": "code",
   "execution_count": 8,
   "metadata": {},
   "outputs": [],
   "source": [
    "class time_machine:\n",
    "\n",
    "    def __init__(self, driver, flux_speed, where_you_were, where_youre_going):\n",
    "\n",
    "        self.driver = driver\n",
    "        self.flux_speed = flux_speed\n",
    "        self.where_you_were = where_you_were\n",
    "        self.where_youre_going = where_youre_going"
   ]
  },
  {
   "cell_type": "markdown",
   "metadata": {},
   "source": [
    "Initialize our classes."
   ]
  },
  {
   "cell_type": "code",
   "execution_count": 9,
   "metadata": {},
   "outputs": [],
   "source": [
    "marty = character('high_school_student')\n",
    "doc_brown = character(['mad_scientist', 'inventor'])\n",
    "biff = character('villain')"
   ]
  },
  {
   "cell_type": "markdown",
   "metadata": {},
   "source": [
    "Variables"
   ]
  },
  {
   "cell_type": "code",
   "execution_count": 10,
   "metadata": {},
   "outputs": [],
   "source": [
    "start_year = 1985\n",
    "present_year = 1985\n",
    "target_year = 1955\n",
    "location = \"hill_valley\"\n",
    "flux_speed = 85"
   ]
  },
  {
   "cell_type": "code",
   "execution_count": 11,
   "metadata": {},
   "outputs": [],
   "source": [
    "hill_valley_55 = time_period(1955, location)\n",
    "hill_valley_85 = time_period(1985, location)"
   ]
  },
  {
   "cell_type": "code",
   "execution_count": 12,
   "metadata": {},
   "outputs": [],
   "source": [
    "delorean = time_machine(marty, flux_speed, hill_valley_85, hill_valley_55)"
   ]
  },
  {
   "cell_type": "code",
   "execution_count": 14,
   "metadata": {},
   "outputs": [
    {
     "data": {
      "text/plain": [
       "'high_school_student'"
      ]
     },
     "execution_count": 14,
     "metadata": {},
     "output_type": "execute_result"
    }
   ],
   "source": [
    "delorean.driver.occupation"
   ]
  },
  {
   "cell_type": "code",
   "execution_count": 15,
   "metadata": {},
   "outputs": [
    {
     "data": {
      "text/plain": [
       "{'driver': <__main__.character at 0x7f2614699930>,\n",
       " 'flux_speed': 85,\n",
       " 'where_you_were': <__main__.time_period at 0x7f261470dff0>,\n",
       " 'where_youre_going': <__main__.time_period at 0x7f261469a680>}"
      ]
     },
     "execution_count": 15,
     "metadata": {},
     "output_type": "execute_result"
    }
   ],
   "source": [
    "delorean.__dict__"
   ]
  }
 ],
 "metadata": {
  "kernelspec": {
   "display_name": ".venv",
   "language": "python",
   "name": "python3"
  },
  "language_info": {
   "codemirror_mode": {
    "name": "ipython",
    "version": 3
   },
   "file_extension": ".py",
   "mimetype": "text/x-python",
   "name": "python",
   "nbconvert_exporter": "python",
   "pygments_lexer": "ipython3",
   "version": "3.10.13"
  }
 },
 "nbformat": 4,
 "nbformat_minor": 2
}
