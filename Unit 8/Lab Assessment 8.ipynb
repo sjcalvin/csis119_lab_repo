{
 "cells": [
  {
   "cell_type": "markdown",
   "metadata": {},
   "source": [
    "# Lab Assessment 8"
   ]
  },
  {
   "cell_type": "markdown",
   "metadata": {},
   "source": [
    "TargetCRM is CRM software company that sends emails to users every week. The system has a mailing list of users that are active and able to receive emails as well as users that have been unsubscribed. Users that opt out are removed from the database and the remaining users are considered active and keep receiving emails.\n",
    "\n",
    "A recurrent issue that TargetCRM has is with computing statistics to analyze the actual state of the mailing list. Because of incorrect user input, there are a lot of email addresses in the mailing list in the wrong format, which is undesirable for the company.\n",
    "\n",
    "The CTO (Chief Technology Officer) of the company wanted to generate a report to check the quality of the email address data. However, when they aggregated the data to create the report, they noticed that the data quality was not good. As more people started using the application, more erroneous email address entries were found. As the system uses email to contact the end users, that was found to be a critical issue.\n",
    "\n",
    "Take into account that each user with an incorrectly formatted email address in our mailing list is a final customer to whom we cannot send notifications because their email is unreachable. Knowing this, for this project, TargetCRM wants to filter out these users in order to free up storage space for valid users and, in the future, work toward a way to improve overall data quality.\n",
    "\n",
    "Your solution will allow TargetCRM to save a considerable amount of money from its monthly budget, because your program will free up a team in the company from doing manual checks every week to filter out incorrectly formatted email address data. Manually checking for errors is a very tedious and repetitive task that is costly and prone to failure, which is why automating this process is crucial for the company.\n",
    "\n",
    "After finishing this project, your solution will be integrated into the mailing list updater application, and the TargetCRM platform will be updated into a newer version with this functionality."
   ]
  },
  {
   "cell_type": "markdown",
   "metadata": {},
   "source": [
    "#### Best Practices\n",
    "Best Practices to Follow:\n",
    "* Write detailed comments and doc-string\n",
    "* Organize and structuring code for readability\n",
    "\n",
    "#### Create `EmailNotValidError()`\n",
    "Create a user-defined exception called `EmailNotValidError()` that will be thrown when an invalid email is found. This exception must extend a base exception class to work. Your exception will also accept a message that will be passed by the other functions. This message helps programmers to understand what sort of error happened while debugging the code.\n",
    "\n",
    "#### Create `is_email_valid()`\n",
    "\n",
    "Create a function called `is_email_valid()` that is going to be responsible for checking whether an email address is valid or not. This function will receive the updated mailing_list, and for each email, you will check whether the address contains an **@** symbol. If the email does not contain the symbol, your code should raise your custom-defined exception."
   ]
  },
  {
   "cell_type": "markdown",
   "metadata": {},
   "source": [
    "**Task #01:** Create the function `is_email_valid` to check whether an email address is valid or not. If the address is not, the function throws the custom `EmailNotValidError` exception."
   ]
  },
  {
   "cell_type": "markdown",
   "metadata": {},
   "source": [
    "#### Create `is_email_valid_extended()`\n",
    "\n",
    "Now your code is able to validate whether an email address has the right format to pass the validation. However, every time an incorrect email exists in the list, your code will crash and return an error message informing the user about what happened. In order to make your implementation more user-friendly and responsive, create a function called `is_email_valid_extended()` to catch the exception, print a message to the user, and prevent the code from crashing."
   ]
  },
  {
   "cell_type": "markdown",
   "metadata": {},
   "source": [
    "**Task #02:** Create the function `is_email_valid_extended` to catch the `EmailNotValidError` exception and return an error message."
   ]
  },
  {
   "cell_type": "markdown",
   "metadata": {},
   "source": [
    "#### Create `is_email_valid_extended_finally()`\n",
    "\n",
    "Your code is now properly handling errors every time an incorrectly typed email address is entered. When an invalid email address is on the list, your solution handles the scenario and prevents the code from crashing. Instead, the code returns a user-friendly message indicating the problem. However, the valid email addresses (that is, the email addresses that pass the validation) are not returned because the exception handling interrupted the normal flow of the code. Considering this, create a function called `is_email_valid_extended_finally()` that implements the `finally` block and returns the list of valid email addresses after all the code has been executed. "
   ]
  },
  {
   "cell_type": "markdown",
   "metadata": {},
   "source": [
    "**Task #03:** Create the function `is_email_valid_extended_finally` that implements the finally block and returns the list of valid email addresses."
   ]
  },
  {
   "cell_type": "markdown",
   "metadata": {},
   "source": [
    "\n",
    "#### Make it your own\n",
    "\n",
    "_This part involves techniques to solve real-world problems such as pattern string matching, you will need this ability as a software developer._\n",
    "\n",
    "In the bonus project, we will challenge you to solve problems that are real-world demands in software development. For the first part, you will work with a text pattern-matching technique called regular expressions (or regexes). Then, for the second part, you will create a second user-defined exception that will be used to validate whether a user’s email contains a provider that is blacklisted (this blacklist is based on length, explained later in part 2) due to characteristics in the name.\n",
    "\n",
    "Your solution has been working well for a couple of weeks. After a few iterations, the TargetCRM’s CTO has collected the mailing list data again to check whether the email address data quality has increased. As expected, the number of incorrect emails has decreased significantly, and the company is happy with the initial improvements that your contribution has brought to the platform.\n",
    "\n",
    "However, after a few weeks of iterations and tests, the CTO realized that far more complicated errors were present in the email address data that a simple **@** symbol check was not covering. They then realized that the feature was not capturing the more complex incorrect format inputs.\n",
    "\n",
    "Here are a couple of the bad email formats that were passed in the initial validation:\n",
    "\n",
    "- john@gmail\n",
    "- @email.com\n",
    "\n",
    "These invalid email addresses had incorrectly passed our current validation. Therefore, to create a more robust validator, we will need to implement a more complex technique. Implement a solution using regexes to create a more complex email validator.\n",
    "\n",
    "> Python has a built-in library for working with regexes, called `re.`. Take a look at the regex patterns to validate email formats.\n",
    "\n",
    "After some time running your code, the company found out that the system is sending notifications to users that contain emails with reportedly malicious providers. Your solution is not accounting for that right now, and so you will need to implement this functionality.\n",
    "\n",
    "The company identified a pattern in the email addresses that were reported to be spammers/malicious. They found that a provider with less than five characters is probably an email provider to whom we want to avoid sending notifications.\n",
    "\n",
    "Create a second custom exception to be raised when an email address with a provider with less than five characters is found.\n",
    "\n",
    "Once you have filtered the emails that are invalid (in our scenario), return the IDs of the users that are able to receive our communication.\n",
    "\n",
    "Once you have the email address as an entire string value, you will need to extract only the provider fraction to compute its length. Try to find a way to split the string by a common delimiter, then retrieve only the part you are interested in, which is the provider\n"
   ]
  },
  {
   "cell_type": "markdown",
   "metadata": {},
   "source": [
    "**Task #04:** Make it your own."
   ]
  },
  {
   "cell_type": "code",
   "execution_count": null,
   "metadata": {},
   "outputs": [],
   "source": [
    "class EmailNotValidError():\n",
    "    \"\"\" Raised when the target email is not valid \"\"\"\n",
    "\n",
    "\n",
    "\n",
    "def is_email_valid(mailing_list):\n",
    "    \"\"\"\n",
    "      Your docstring documentation starts here.\n",
    "\n",
    "      For more information on how to proper document your function, please refer to the official PEP8:\n",
    "       https://www.python.org/dev/peps/pep-0008/#documentation-strings.\n",
    "\n",
    "   \"\"\"\n",
    "\n",
    "for key, email in  # Loop through the mailing list:\n",
    "\n",
    "    if '@' not in  # Check if the email contains an @:\n",
    "\n",
    "        raise  # Raise an EmailNotValidError exception if the @ is not present\n",
    "\n",
    "\n",
    "\n",
    "def is_email_valid_extended(mailing_list):\n",
    "     \"\"\"\n",
    "       Your docstring documentation starts here.\n",
    "\n",
    "       For more information on how to proper document your function, please refer to the official PEP8:\n",
    "        https://www.python.org/dev/peps/pep-0008/#documentation-strings.\n",
    "\n",
    "    \"\"\"\n",
    "\n",
    "\n",
    "    final_users_list = # Array to hold user ids\n",
    "\n",
    "    # Inserted a try.., except.. block to cast the exception\n",
    "    try:\n",
    "\n",
    "        # Loop through the mailing list\n",
    "        for key, email in # Your mailing list:\n",
    "\n",
    "\n",
    "            if '@' in # Check if the @ is present in the email:\n",
    "\n",
    "                # Append the id of users with valid emails\n",
    "\n",
    "        else:\n",
    "\n",
    "\n",
    "            raise # Raises an EmailNotValidError otherwise\n",
    "    except # Your user-defined exception:\n",
    "\n",
    "\n",
    "        return # Return a user-friendly message to cast the exception\n",
    "\n",
    "\n",
    "\n",
    "def is_email_valid_extended_finally(mailing_list):\n",
    "     \"\"\"\n",
    "       Your docstring documentation starts here.\n",
    "\n",
    "       For more information on how to proper document your function, please refer to the official PEP8:\n",
    "        https://www.python.org/dev/peps/pep-0008/#documentation-strings.\n",
    "\n",
    "    \"\"\"\n",
    "\n",
    "    final_users_list = # Array to hold user ids\n",
    "\n",
    "    # Inserted a try.., except.. block to cast the exception\n",
    "    try:\n",
    "        # Loop through the mailing list\n",
    "        for key, email in  # Your mailing list:\n",
    "\n",
    "\n",
    "            if '@' in # Check if the @ is present in the email:\n",
    "\n",
    "                # Append the id of users with valid emails\n",
    "\n",
    "        else:\n",
    "\n",
    "\n",
    "            raise # Raises an EmailNotValidError otherwise\n",
    "    except # Your user-defined exception:\n",
    "\n",
    "        # Print a user-friendly message to cast the exception\n",
    "    finally:\n",
    "\n",
    "        return # Return the id of the users with valid email"
   ]
  }
 ],
 "metadata": {
  "language_info": {
   "name": "python"
  }
 },
 "nbformat": 4,
 "nbformat_minor": 2
}
