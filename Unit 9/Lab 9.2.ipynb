{
 "cells": [
  {
   "cell_type": "markdown",
   "metadata": {},
   "source": [
    "# Lab 9.2"
   ]
  },
  {
   "cell_type": "markdown",
   "metadata": {},
   "source": [
    "#### Aim\n",
    "Suppose you are a backend developer for a tech news platform. You have been asked to design a templating system for their news articles. To do this, you will need to run some proof of concepts.\n",
    "\n",
    "#### Steps for Completion\n",
    "\n",
    "1. Define the `TabletComputer` class in the *main.py* file so that the code in *Snippet 7.19* runs without error:\n",
    "\n",
    "```python\n",
    "# Write your TabletComputer class here\n",
    "\n",
    "uPad = TabletComputer(12.9, \"1TB\", \"uPadOS 13.5.1\")\n",
    "rootProX = TabletComputer(13.0, \"512GB\", \"Glass 10 Home\")\n",
    "\n",
    "print(f\"The new uPad has a {uPad.screen_size}\"\n",
    "\tf\" inch display. A maximum {uPad.storage} of storage and runs on\"\n",
    "    f\" the latest version of {uPad.os}. Its biggest competitor is\"\n",
    "    f\" the Root Pro X which holds a similar {rootProX.screen_size}\"\n",
    "    f\" inch display, with a maximum storage capacity of {rootProX.storage} and runs {rootProX.os}.\"\n",
    "      )\n",
    "```\n",
    "<sup>*Snippet 7.19*</sup>\n",
    "\n",
    "2. Define the `__init__` function within the `TabletComputer` class with the necessary parameters to set up the member variables.\n",
    "\n",
    "You will need to set the following member variables: \n",
    "* `screen_size`\n",
    "* `storage`\n",
    "* `os`\n",
    "\n",
    "\n",
    "3. After defining the class, running the preceding code should yield the output shown in *Figure 7.1*:\n",
    "\n",
    "![PF1e-7-2-figure-7.1.png](https://cdn.filestackcontent.com/0rPgNyeXStaB4a44JGMI)\n",
    "\n",
    "<sup>*Figure 7.1*</sup>"
   ]
  },
  {
   "cell_type": "code",
   "execution_count": null,
   "metadata": {},
   "outputs": [],
   "source": [
    "# Class definition goes here\n",
    "\n",
    "uPad = TabletComputer(12.9, \"1TB\", \"uPadOS 13.5.1\")\n",
    "rootProX = TabletComputer(13.0, \"512GB\", \"Glass 10 Home\")\n",
    "\n",
    "print(f\"The new uPad has a {uPad.screen_size}\"\n",
    "\tf\" inch display. A maximum {uPad.storage} of storage and runs on\"\n",
    "    f\" the latest version of {uPad.os}. Its biggest competitor is\"\n",
    "    f\" the Root Pro X which holds a similar {rootProX.screen_size}\"\n",
    "    f\" inch display, with a maximum storage capacity of {rootProX.storage} and runs {rootProX.os}.\"\n",
    "      )"
   ]
  }
 ],
 "metadata": {
  "language_info": {
   "name": "python"
  }
 },
 "nbformat": 4,
 "nbformat_minor": 2
}
