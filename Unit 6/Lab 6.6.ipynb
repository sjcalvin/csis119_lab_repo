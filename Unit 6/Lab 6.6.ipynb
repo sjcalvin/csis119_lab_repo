{
 "cells": [
  {
   "cell_type": "markdown",
   "metadata": {},
   "source": [
    "# Lab 6.6 (5.6 in MindTap) Manipulating Tuples.\n",
    "\n",
    "#### Scenario\n",
    "\n",
    "Given a Tuple, find out the number of times a string occurs.\n",
    "\n",
    "#### Aim\n",
    "\n",
    "Write a script that uses tuple methods to count the number of elements in a tuple and the number of times a particular element appears in the tuple. Based on these counts, the script will also print a message to the terminal.\n",
    "\n",
    "# Steps for Completion\n",
    "\n",
    "1. Initialize a tuple, as shown:\n",
    "\n",
    "```python\n",
    "cars = ('coupe', 'coupe', 'coupe', 'carbiolet', 'sedan')\n",
    "```"
   ]
  },
  {
   "cell_type": "code",
   "execution_count": null,
   "metadata": {},
   "outputs": [],
   "source": []
  },
  {
   "cell_type": "markdown",
   "metadata": {},
   "source": [
    "2. Use a tuple method to count the number of times the `coupe` element appears in the tuple `cars`, and assign it to a variable, `fav`."
   ]
  },
  {
   "cell_type": "code",
   "execution_count": null,
   "metadata": {},
   "outputs": [],
   "source": []
  },
  {
   "cell_type": "markdown",
   "metadata": {},
   "source": [
    "3. Use a tuple method to calculate the length of the tuple `cars`, and assign it to a variable, `amt`."
   ]
  },
  {
   "cell_type": "code",
   "execution_count": null,
   "metadata": {},
   "outputs": [],
   "source": []
  },
  {
   "cell_type": "markdown",
   "metadata": {},
   "source": [
    "4. If the number of times the `coupe` element appears in the tuple `cars` is more than 45%, print `Too many coupes in the garage.` to the terminal. If not, print `You are all set with cars.`."
   ]
  },
  {
   "cell_type": "code",
   "execution_count": null,
   "metadata": {},
   "outputs": [],
   "source": []
  }
 ],
 "metadata": {
  "language_info": {
   "name": "python"
  }
 },
 "nbformat": 4,
 "nbformat_minor": 2
}
