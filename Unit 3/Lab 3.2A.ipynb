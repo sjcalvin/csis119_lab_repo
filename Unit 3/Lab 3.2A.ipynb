{
 "cells": [
  {
   "cell_type": "markdown",
   "metadata": {},
   "source": [
    "### Lab 3.2A."
   ]
  },
  {
   "cell_type": "markdown",
   "metadata": {},
   "source": [
    "<!-- practice -->\n",
    "\n",
    "#### Scenario\n",
    "\n",
    "You are given some strings with an index for slicing and will work out what the output will be.\n",
    "\n",
    "#### Aim\n",
    "\n",
    "Predict what the output will be in _Snippets 2.38 - 2.42_.\n",
    "\n",
    "#### Steps for Completion\n",
    "\n",
    "1. Execute the following statement in an empty cell:\n",
    "\n",
    "```python\n",
    "        \"Driving in an endless road.\"[5]\n",
    "```\n",
    "\n",
    "2. Execute the following statement in an empty cell:\n",
    "\n",
    "```python\n",
    "        \"[1, 4, 8]\"[7]\n",
    "```\n",
    "\n",
    "3. Execute the following statement in an empty cell:\n",
    "\n",
    "```python\n",
    "        \"We are all in this together.\"[7:13]\n",
    "```\n",
    "\n",
    "4. Execute the following statementin an empty cell:\n",
    "\n",
    "```python\n",
    "        \"Going live in: 3, 2 , 1\"[6:]\n",
    "```\n",
    "\n",
    "5. Execute the following statementin an empty cell:\n",
    "\n",
    "```python\n",
    "        \"A snake, two snakes, a code: Python.\"[:-7]\n",
    "```\n"
   ]
  },
  {
   "cell_type": "code",
   "execution_count": null,
   "metadata": {},
   "outputs": [],
   "source": []
  },
  {
   "cell_type": "code",
   "execution_count": null,
   "metadata": {},
   "outputs": [],
   "source": []
  },
  {
   "cell_type": "code",
   "execution_count": null,
   "metadata": {},
   "outputs": [],
   "source": []
  },
  {
   "cell_type": "code",
   "execution_count": null,
   "metadata": {},
   "outputs": [],
   "source": []
  },
  {
   "cell_type": "code",
   "execution_count": null,
   "metadata": {},
   "outputs": [],
   "source": []
  }
 ],
 "metadata": {
  "kernelspec": {
   "display_name": "csis119",
   "language": "python",
   "name": "python3"
  },
  "language_info": {
   "codemirror_mode": {
    "name": "ipython",
    "version": 3
   },
   "file_extension": ".py",
   "mimetype": "text/x-python",
   "name": "python",
   "nbconvert_exporter": "python",
   "pygments_lexer": "ipython3",
   "version": "3.12.1"
  }
 },
 "nbformat": 4,
 "nbformat_minor": 2
}
