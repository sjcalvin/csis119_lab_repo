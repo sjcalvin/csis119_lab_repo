{
 "cells": [
  {
   "cell_type": "markdown",
   "metadata": {},
   "source": [
    "# Lab 4.7 (3.7 in MindTap)"
   ]
  },
  {
   "cell_type": "markdown",
   "metadata": {},
   "source": [
    "# Aim\n",
    "Using a `for` loop and a `range` function, you have been asked to find the even numbers between **5** and **55** and then find their sum.\n",
    "\n",
    "# Steps for Completion\n",
    "\n",
    "1. In the cell, define a counter for the sum named `total_sum`.\n",
    "\n",
    "2. Then, define a `for` loop with a range for even numbers between **5** and **55**.\n",
    "\n",
    "3. In the for loop, add each looped number to the sum.\n",
    "\n",
    "4. Outside the loop, print out `total_sum`.\n",
    "\n",
    "The cell's output should be as shown:\n",
    "\n",
    "```python\n",
    "750\n",
    "```"
   ]
  },
  {
   "cell_type": "code",
   "execution_count": null,
   "metadata": {},
   "outputs": [],
   "source": []
  }
 ],
 "metadata": {
  "kernelspec": {
   "display_name": "csis119",
   "language": "python",
   "name": "python3"
  },
  "language_info": {
   "codemirror_mode": {
    "name": "ipython",
    "version": 3
   },
   "file_extension": ".py",
   "mimetype": "text/x-python",
   "name": "python",
   "nbconvert_exporter": "python",
   "pygments_lexer": "ipython3",
   "version": "3.12.1"
  }
 },
 "nbformat": 4,
 "nbformat_minor": 2
}
