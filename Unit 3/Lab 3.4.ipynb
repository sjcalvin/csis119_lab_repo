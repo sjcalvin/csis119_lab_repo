{
 "cells": [
  {
   "cell_type": "markdown",
   "metadata": {},
   "source": [
    "### Scenario\n",
    "\n",
    "You have been given three code snippets that need to be completed in order to execute.\n",
    "\n",
    "### Aim\n",
    "\n",
    "In each of the code snippets replace the `?` character with the correct Boolean operator, for instance `<`,`>`,`==`,`not`, or `not in`. Each code block should execute correctly.\n",
    "\n",
    "> After you have executed a code snippet in the following cell, run the corresponding task to ensure you have passed before moving on to the next snippet.\n",
    "\n",
    "#### Steps for Completion\n",
    "\n",
    "1. Consider the following code in _Snippet 2.82_:\n",
    "\n",
    "```python\n",
    "num = 61\n",
    "if num % 2 ? 0:\n",
    "\tprint(\"Odd\")\n",
    "```"
   ]
  },
  {
   "cell_type": "code",
   "execution_count": null,
   "metadata": {},
   "outputs": [],
   "source": []
  },
  {
   "cell_type": "markdown",
   "metadata": {},
   "source": [
    "2. Consider the following code in _Snippet 2.83_:\n",
    "\n",
    "```python\n",
    "days = 32\n",
    "if days ? 31:\n",
    "\tprint(\"Not a valid day of the month.\")\n",
    "```"
   ]
  },
  {
   "cell_type": "code",
   "execution_count": null,
   "metadata": {},
   "outputs": [],
   "source": []
  },
  {
   "cell_type": "markdown",
   "metadata": {},
   "source": [
    "3. Consider the following code in _Snippet 2.84_:\n",
    "\n",
    "```python\n",
    "character = \"c\"\n",
    "if character ? [\"a\", \"i\"]:\n",
    "    print(f\"The letter '{character}' does not also constitute a word.\")\n",
    "```"
   ]
  },
  {
   "cell_type": "code",
   "execution_count": null,
   "metadata": {},
   "outputs": [],
   "source": []
  }
 ],
 "metadata": {
  "language_info": {
   "name": "python"
  }
 },
 "nbformat": 4,
 "nbformat_minor": 2
}
