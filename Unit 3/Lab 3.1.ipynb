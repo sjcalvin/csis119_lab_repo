{
 "cells": [
  {
   "cell_type": "markdown",
   "metadata": {},
   "source": [
    "### Lab 3.1A."
   ]
  },
  {
   "cell_type": "markdown",
   "metadata": {},
   "source": [
    "#### Scenario\n",
    "\n",
    "In this challenge, we will try to get conversant with the order of arithmetic operators in Python. Rewrite the following mathematical statement as a Python expression and get the result of the statement in the following cell:\n",
    "\n",
    "$$\n",
    "    5(4-2) + (\\frac {100}{\\frac{5}{2}})2\n",
    "\n",
    "$$\n",
    "\n",
    "Python follows the mathematical rules that you're accustomed to. A lot of what you'd expect to work mathematically can be intuitively tried out in Python, and will often work."
   ]
  },
  {
   "cell_type": "code",
   "execution_count": null,
   "metadata": {},
   "outputs": [],
   "source": []
  },
  {
   "cell_type": "markdown",
   "metadata": {},
   "source": []
  },
  {
   "cell_type": "code",
   "execution_count": null,
   "metadata": {},
   "outputs": [],
   "source": []
  },
  {
   "cell_type": "code",
   "execution_count": null,
   "metadata": {},
   "outputs": [],
   "source": []
  },
  {
   "cell_type": "code",
   "execution_count": null,
   "metadata": {},
   "outputs": [],
   "source": []
  },
  {
   "cell_type": "markdown",
   "metadata": {},
   "source": [
    "### Lab 3.1B"
   ]
  },
  {
   "cell_type": "markdown",
   "metadata": {},
   "source": [
    "#### Scenario\n",
    "\n",
    "You are given the number of days that you have been driving, and you will write a Python script to work out the equivalent number of years and weeks.\n",
    "\n",
    "#### Aim\n",
    "\n",
    "Write a script that takes user input as days and converts the days into years, weeks, and days, and then prints them out. We can ignore leap years. The aim of this activity is to use different arithmetic operators to split days into years, weeks, and days.\n",
    "\n",
    "#### Steps for Completion\n",
    "\n",
    "1. In the first cell import the math module.\n",
    "\n",
    "2. In the second cell, ask the user how many days they've been driving for and declare the user input. It's an integer, so cast the string.\n",
    "\n",
    "3. In the third cell, calculate the number of years in that set of days.\n",
    "\n",
    "4. Also in the third cell, convert the remaining days that weren't converted to years into weeks.\n",
    "\n",
    "5. Also in the third cell, get any remaining days that weren't converted to weeks.\n",
    "\n",
    "6. In the fourth cell, use print statements to output your calculations. The output should look something like the following:\n",
    "\n",
    "    ```raw\n",
    "    You travelled for 1000 days.\n",
    "    That's 2 years, 38 weeks, and 2 days.   \n",
    "    ```"
   ]
  },
  {
   "cell_type": "code",
   "execution_count": null,
   "metadata": {},
   "outputs": [],
   "source": []
  },
  {
   "cell_type": "code",
   "execution_count": null,
   "metadata": {},
   "outputs": [],
   "source": []
  },
  {
   "cell_type": "code",
   "execution_count": null,
   "metadata": {},
   "outputs": [],
   "source": []
  },
  {
   "cell_type": "code",
   "execution_count": null,
   "metadata": {},
   "outputs": [],
   "source": []
  },
  {
   "cell_type": "markdown",
   "metadata": {},
   "source": [
    "Now, take the code from the previous four cells, place them in a new file called main.py, save it, and then run the script in the terminal."
   ]
  },
  {
   "cell_type": "markdown",
   "metadata": {},
   "source": [
    "#### Lab Completion."
   ]
  },
  {
   "cell_type": "markdown",
   "metadata": {},
   "source": [
    "To complete the lab, save this notebook, and upload it to the lab submission in Canvas along with the main.py file and a screenshot of the main.py file running in the terminal."
   ]
  }
 ],
 "metadata": {
  "kernelspec": {
   "display_name": "csis119",
   "language": "python",
   "name": "python3"
  },
  "language_info": {
   "codemirror_mode": {
    "name": "ipython",
    "version": 3
   },
   "file_extension": ".py",
   "mimetype": "text/x-python",
   "name": "python",
   "nbconvert_exporter": "python",
   "pygments_lexer": "ipython3",
   "version": "3.12.1"
  }
 },
 "nbformat": 4,
 "nbformat_minor": 2
}
