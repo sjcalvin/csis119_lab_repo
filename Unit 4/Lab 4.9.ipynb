{
 "cells": [
  {
   "cell_type": "markdown",
   "metadata": {},
   "source": [
    "Lab 4.9 (3.9 in MindTap)"
   ]
  },
  {
   "cell_type": "markdown",
   "metadata": {},
   "source": [
    "# Scenario\n",
    "\n",
    "You have been asked to write a loop that outputs values in a database column ranging between 10 and 100. Any number that is not divisible by 5, and any value that is not an integer, should be ignored. When the value in the loop hits 95, break the loop prematurely. One of your team members has advised the use of `break`, `continue`, and `pass` statements.\n",
    "\n",
    "# Steps for Completion\n",
    "\n",
    "1. Define a `for` loop, using the `range` function to create the lower (**10**) and upper (**100**) limits.\n",
    "\n",
    "2. Define a condition that checks for zero.\n",
    "\n",
    "3. Define a condition that checks whether the number is divisible by 5.\n",
    "\n",
    "4. Define a condition that checks the data type.\n",
    "\n",
    "5. Define a condition that checks for 95, and breaks the loop.\n",
    "\n",
    "6. Define a condition that uses the `pass` statement if the number doesn't meet any condition.\n",
    "\n",
    "7. Print the number if it meets the condition.\n",
    "\n",
    "The output will be as shown:\n",
    "\n",
    "```\n",
    "10\n",
    "15\n",
    "20\n",
    "25\n",
    "30\n",
    "35\n",
    "...\n",
    "...\n",
    "80\n",
    "85\n",
    "90\n",
    "```"
   ]
  },
  {
   "cell_type": "code",
   "execution_count": null,
   "metadata": {},
   "outputs": [],
   "source": []
  }
 ],
 "metadata": {
  "language_info": {
   "name": "python"
  }
 },
 "nbformat": 4,
 "nbformat_minor": 2
}
