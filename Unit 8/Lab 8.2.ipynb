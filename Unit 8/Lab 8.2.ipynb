{
 "cells": [
  {
   "cell_type": "markdown",
   "metadata": {},
   "source": [
    "# Lab 8.2"
   ]
  },
  {
   "cell_type": "markdown",
   "metadata": {},
   "source": [
    "#### Scenario\n",
    "\n",
    "You are testing code to determine types of errors. During programming, errors often occur. But how can we anticipate when something will cause an error? You can anticipate errors by thoroughly understanding error scenarios and causes.\n",
    "\n",
    "#### Aim\n",
    "\n",
    "In this activity, we will create error scenarios. Let’s write some code that will cause a `KeyError` and an `AttributeError`.\n",
    "\n",
    "#### Steps for Completion\n",
    "\n",
    "Define a function `createError` to first generate a `KeyError` and then an `AttributeError`.\n",
    "\n",
    "> In order to generate both errors, you will need to generate only one error at a time."
   ]
  },
  {
   "cell_type": "code",
   "execution_count": null,
   "metadata": {},
   "outputs": [],
   "source": []
  },
  {
   "cell_type": "markdown",
   "metadata": {},
   "source": [
    "Now, call the function to generate the different Errors:"
   ]
  },
  {
   "cell_type": "markdown",
   "metadata": {},
   "source": [
    "To generate a `KeyError`:\n",
    "\n",
    "1. Create the dictionary shown in _Snippet 9.29_:\n",
    "\n",
    "```python\n",
    "dinning = dict (\n",
    "    name = \"Johnny's Restaurant\",\n",
    "    location = \"Times Square\"\n",
    ")\n",
    "```\n",
    "\n",
    "2. Write a `print` statement that uses a key that’s not defined in this dictionary.\n",
    "\n",
    "Running the code in the cell should result in only one console error similar to the example below:\n",
    "\n",
    "```\n",
    "KeyError: 'address'\n",
    "```"
   ]
  },
  {
   "cell_type": "code",
   "execution_count": null,
   "metadata": {},
   "outputs": [],
   "source": []
  },
  {
   "cell_type": "markdown",
   "metadata": {},
   "source": [
    "To generate an `AttributeError`:\n",
    "\n",
    "1. Import the `string` module.\n",
    "\n",
    "2. Use an attribute that’s not defined in the `string` module.\n",
    "\n",
    "Running code in the cell should result in only one console error similar to the example below:\n",
    "\n",
    "```\n",
    "AttributeError: module 'string' has no attribute 'asciiletters'\n",
    "```"
   ]
  },
  {
   "cell_type": "code",
   "execution_count": null,
   "metadata": {},
   "outputs": [],
   "source": []
  }
 ],
 "metadata": {
  "kernelspec": {
   "display_name": ".venv",
   "language": "python",
   "name": "python3"
  },
  "language_info": {
   "codemirror_mode": {
    "name": "ipython",
    "version": 3
   },
   "file_extension": ".py",
   "mimetype": "text/x-python",
   "name": "python",
   "nbconvert_exporter": "python",
   "pygments_lexer": "ipython3",
   "version": "3.10.13"
  }
 },
 "nbformat": 4,
 "nbformat_minor": 2
}
