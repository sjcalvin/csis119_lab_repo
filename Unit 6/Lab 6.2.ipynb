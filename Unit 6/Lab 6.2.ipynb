{
 "cells": [
  {
   "cell_type": "markdown",
   "metadata": {},
   "source": [
    "# Lab 6.2 (5.2 in MindTap) Manipulating Lists\n",
    "\n",
    "#### Scenario\n",
    "\n",
    "Given the following challenges, use `append()`, `extend()`, `pop()`, and `insert()`to change the contents of the lists.\n",
    "\n",
    "#### Aim\n",
    "\n",
    "The aim of this activity is to get acquainted with list methods by utilizing various Python list methods.\n",
    "\n",
    "Using the `ipython3` interactive shell, change the contents of this list using the various available methods.\n",
    "\n",
    "#### Steps for Completion\n",
    "\n",
    "Suppose that we have the following list:\n",
    "\n",
    "`Strawberry`, `Blueberry`, `Blackberry`, `Cranberry`\n",
    "\n",
    "Define the list `berries` with the following elements shown:\n",
    "\n",
    "```\n",
    "   Strawberry, Blueberry, Blackberry, Cranberry\n",
    "```\n",
    "\n",
    "Change the contents of this list using the various available methods:\n",
    "\n",
    "> Note: Check your output by calling the list after each method"
   ]
  },
  {
   "cell_type": "markdown",
   "metadata": {},
   "source": [
    "1. Using the built-in `append()` method, add the value `Raspberry` to the list `berries`."
   ]
  },
  {
   "cell_type": "code",
   "execution_count": null,
   "metadata": {},
   "outputs": [],
   "source": []
  },
  {
   "cell_type": "markdown",
   "metadata": {},
   "source": [
    "2. Using the built-in `extend()` method, extend an empty `fruits` list from the `berries` list that you created previously."
   ]
  },
  {
   "cell_type": "code",
   "execution_count": null,
   "metadata": {},
   "outputs": [],
   "source": []
  },
  {
   "cell_type": "markdown",
   "metadata": {},
   "source": [
    "3. Insert `Mangoes` into the `fruits` list at index `2` using the built-in method `insert()`."
   ]
  },
  {
   "cell_type": "code",
   "execution_count": null,
   "metadata": {},
   "outputs": [],
   "source": []
  },
  {
   "cell_type": "markdown",
   "metadata": {},
   "source": [
    "4. Remove the element at index `1` from the `fruits` list using the built-in method `pop()` and replace it with `Apples`, using the `insert()` built-in method."
   ]
  },
  {
   "cell_type": "code",
   "execution_count": null,
   "metadata": {},
   "outputs": [],
   "source": []
  },
  {
   "cell_type": "markdown",
   "metadata": {},
   "source": [
    "5. Finally, sort the elements in the `fruits` list by using the built-in method `sort()` with keyword arguments. Set the `key` argument to **None** and the `reverse` argument to **False**."
   ]
  },
  {
   "cell_type": "code",
   "execution_count": null,
   "metadata": {},
   "outputs": [],
   "source": []
  }
 ],
 "metadata": {
  "language_info": {
   "name": "python"
  }
 },
 "nbformat": 4,
 "nbformat_minor": 2
}
