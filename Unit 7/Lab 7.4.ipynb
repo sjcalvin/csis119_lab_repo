{
 "cells": [
  {
   "cell_type": "markdown",
   "metadata": {},
   "source": [
    "# Lab 7.4"
   ]
  },
  {
   "cell_type": "markdown",
   "metadata": {},
   "source": [
    "#### Scenario\n",
    "\n",
    "Imagine that you have some data in a list that contains a lot of duplicates that you want to remove, but for simplicity’s sake, you want to avoid writing a `for` loop and building a new list.\n",
    "\n",
    "#### Aim\n",
    "\n",
    "The aim of this activity is to build a set out of a random set of items. Write a function called **list_to_set** that takes a list and turns it into a set. Do not use a `for` loop or `while` loop to do so.\n",
    "\n",
    "#### Steps for Completion\n",
    "\n",
    "1. Define the function `list_to_set` to take an argument of a list (`the_list`).\n",
    "2. Within the `list_to_set` function, use another function to convert the list into a set.\n",
    "3. Return the set.\n",
    "\n",
    "Here is an example of how the function `list_to_set` would work using the correct function:\n",
    "\n",
    "```python\n",
    "the_list = [2, 2, 4, 4, 4, 6, 8, 12, 10, 10]\n",
    "the_set = list_to_set(the_list)\n",
    "print(the_set)\n",
    "\n",
    "{2, 4, 6, 8, 10, 12}\n",
    "```"
   ]
  },
  {
   "cell_type": "code",
   "execution_count": null,
   "metadata": {},
   "outputs": [],
   "source": []
  },
  {
   "cell_type": "code",
   "execution_count": null,
   "metadata": {},
   "outputs": [],
   "source": []
  },
  {
   "cell_type": "code",
   "execution_count": null,
   "metadata": {},
   "outputs": [],
   "source": []
  }
 ],
 "metadata": {
  "language_info": {
   "name": "python"
  }
 },
 "nbformat": 4,
 "nbformat_minor": 2
}
