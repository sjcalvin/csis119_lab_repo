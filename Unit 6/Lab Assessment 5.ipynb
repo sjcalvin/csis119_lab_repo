{
 "cells": [
  {
   "cell_type": "markdown",
   "metadata": {},
   "source": [
    "#### Scenario\n",
    "\n",
    "AppInvest is a mobile application that helps people save money and safely invest in a varied portfolio of investment vehicles. The app has helped thousands of people to accomplish their financial goals. To invest money in the app is simple: you open an account with at least $1,000 and you’re ready to go.\n",
    "\n",
    "There are a number of investment apps currently available on the market, but AppInvest excels in some areas and offers a better service than its competitors. Some advantages of the app include setting a short-term financial goal to be achieved, as well as immediate access to the user’s funds. The company is planning on releasing a new feature that will enable investors to increase gains depending on the amount invested. In other words, the more money you put in the app, the greater your rate of return. You have been tasked with adding this functionality.\n",
    "\n",
    "Initially, the investment engine has to be extended to allow for investors to increase their gain margin if they invest more money on the app.\n",
    "\n",
    "The company has agreed internally that 1 million is a good starting point to trigger the increase of the gain margin. If the invested amount surpasses $1 million, then the gain margin will be increased by 1%. Similarly, if the invested amount is 5 million dollars, then the gain margin will be increased by 5% and so on, limited by a maximum of 100%.\n",
    "\n",
    "The standard gain margin is 0.1% per month, plus 1% each time the amount surpasses increments of 1 million dollars. For example:\n",
    "\n",
    "If the amount invested is $5,000,000 ($5 million), then the gain margin would be:\n",
    "0.1% + 5% = 5.1%.\n",
    "\n",
    "For this assessment, you will write a function that for a given invested amount will return that amount plus the calculated investment gains. If the given amount is greater than the $1 million threshold, the app will need to increase the rate of return 1% for every million dollars invested plus the original rate of 0.1%. Finally, you will implement the functionality to estimate (forecast) the return on investment over a time period.\n",
    "\n",
    "In order for you to start this project, we will provide a function template that can be followed to solve this challenge. The code block below is a sample way that this project could be structured.\n",
    "\n",
    "```python\n",
    "# global variable\n",
    "\n",
    "\n",
    "def calculate_gains(amount_inv=0.0):\n",
    "    \"\"\" Calculating the return gains of an investment.\n",
    "\n",
    "\n",
    "    # base amount gain margin\n",
    "\n",
    "\n",
    "    if amount_inv > 1000:\n",
    "\n",
    "        # check whether the invested amount is greater than the multiplier amount\n",
    "\n",
    "            # gather the value of the division\n",
    "\n",
    "\n",
    "            # update the `gain_margin` by the multiplier mod"
   ]
  },
  {
   "cell_type": "code",
   "execution_count": null,
   "metadata": {},
   "outputs": [],
   "source": []
  },
  {
   "cell_type": "markdown",
   "metadata": {},
   "source": [
    "Another functionality for the app is the ability to estimate the return on investment over a period of time. In order to implement this feature, you will have to update the investment calculator algorithm.\n",
    "\n",
    "The base function to calculate the return on investment from Task 1 can be reutilized here to simplify our task. This feature will take into consideration a 12-month period by default.\n",
    "\n",
    "To calculate the total amount earned over a period of time, you will have to loop through the n-months period, increase the amount for each period. The other rules from the previous task apply here as well.\n",
    "\n",
    "For example:\n",
    "If you invest $3 million on the first month, and obtain a return of $93,000 dollars, then the amount to be invested in the second month is $3.093 million.\n",
    "\n",
    "To summarize:\n",
    "\n",
    "- Loop over a period of 12 months to calculate the total for each period\n",
    "- Return the accumulated estimated value for a period of 12 months\n",
    "\n",
    "> Note that to calculate the accumulated value over a 12-month period do not just multiply the gain of every month by 12 (or n). In this case, the gain of every month is added to the original value, updating the amount to be invested in the subsequent month.\n",
    "\n",
    "The following base code is given for you in the file _calculate_gains_over_time.py_:\n",
    "\n",
    "```python\n",
    "def calculate_gains_over_time(amount_inv=0.0, period=12):\n",
    "    \"\"\"\n",
    "    Calculating the return gains of a given amount invested based on a period of application.\n",
    "    :param amount_inv: the money amount invested\n",
    "    :param period: application period\n",
    "    :return:\n",
    "    \"\"\"\n",
    "\n",
    "    # call the base `calculate_gains` function to estimate the gains for the first period\n",
    "\n",
    "    # calculate the first period before entering the loop\n",
    "\n",
    "    # loop through the specified period to calculate the gain of each month\n",
    "\n",
    "    # 1 to period-1 because the first period gains is already calculated above"
   ]
  },
  {
   "cell_type": "code",
   "execution_count": null,
   "metadata": {},
   "outputs": [],
   "source": []
  },
  {
   "cell_type": "code",
   "execution_count": null,
   "metadata": {},
   "outputs": [],
   "source": []
  },
  {
   "cell_type": "markdown",
   "metadata": {},
   "source": [
    "#### Make it your own\n",
    "\n",
    "As the algorithm performs division of numbers with high precision, it is very common to see really big numbers after the period (for example: 1200.2300001), which is not desirable because of several reasons:\n",
    "\n",
    "1. may cause confusion to some users when they see such big numbers;\n",
    "2. uses more memory to store a bigger number;\n",
    "3. it just does not make sense to display currency number in this format.\n",
    "\n",
    "For this reason, you are going to implement a utility function to format any number into the appropriate currency format, using 2 decimal places.\n",
    "\n",
    "For example:\n",
    "The number 1200.2300001 would be became: 1200.23\n",
    "\n",
    "> Take a look at the formatting options for python native."
   ]
  },
  {
   "cell_type": "code",
   "execution_count": null,
   "metadata": {},
   "outputs": [],
   "source": []
  },
  {
   "cell_type": "code",
   "execution_count": null,
   "metadata": {},
   "outputs": [],
   "source": []
  },
  {
   "cell_type": "code",
   "execution_count": null,
   "metadata": {},
   "outputs": [],
   "source": []
  },
  {
   "cell_type": "code",
   "execution_count": null,
   "metadata": {},
   "outputs": [],
   "source": []
  },
  {
   "cell_type": "code",
   "execution_count": null,
   "metadata": {},
   "outputs": [],
   "source": []
  }
 ],
 "metadata": {
  "language_info": {
   "name": "python"
  }
 },
 "nbformat": 4,
 "nbformat_minor": 2
}
