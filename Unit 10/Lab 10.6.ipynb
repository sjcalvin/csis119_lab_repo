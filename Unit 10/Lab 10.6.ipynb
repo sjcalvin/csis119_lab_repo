{
 "cells": [
  {
   "cell_type": "markdown",
   "metadata": {},
   "source": [
    "# Lab 10.6"
   ]
  },
  {
   "cell_type": "markdown",
   "metadata": {},
   "source": [
    "#### Aim\n",
    "Create a file and add data to it.\n",
    "\n",
    "#### Steps for Completion\n",
    "\n",
    "1. In the cells below, use the `with` context manager or the `open()` function to create a *newfile.txt* object.\n",
    "\n",
    "2. Write `I enjoy learning to code in Python` to the file.\n",
    "\n",
    "3. Run the cell, and a file named *newfile.txt* should be generated with the contents `I enjoy learning to code in Python`.\n",
    "\n",
    "> Remember to close the file object when you are only using `open()`. "
   ]
  },
  {
   "cell_type": "code",
   "execution_count": null,
   "metadata": {
    "vscode": {
     "languageId": "plaintext"
    }
   },
   "outputs": [],
   "source": []
  }
 ],
 "metadata": {
  "language_info": {
   "name": "python"
  }
 },
 "nbformat": 4,
 "nbformat_minor": 2
}
