{
 "cells": [
  {
   "cell_type": "markdown",
   "metadata": {},
   "source": [
    "# Lab Assessment 6"
   ]
  },
  {
   "cell_type": "markdown",
   "metadata": {},
   "source": [
    "#### Scenario\n",
    "\n",
    "You’ve just been hired by a small-town casino that wants to create a simulated card playing platform. To get you warmed up, they want you to be able to create a blackjack game simulator.\n",
    "\n",
    "The game logic needs to follow this pattern:\n",
    "\n",
    "1. Create a deck.\n",
    "2. Give each player two cards (chosen randomly using random.choice).\n",
    "3. Display both hands\n",
    "4. Prompt the player to either hit (that is, draw another card) or stay.\n",
    "5. If the player hits, keep checking whether the total value of the player’s cards is equal to 21. If it is, then the player wins, and if it is above 21, then the player loses. Display each updated hand after each card draw.\n",
    "6. If the player stays, then it’s the dealer’s turn to act. If the total value in the dealer’s hand is less than 17, then they must hit. If it is greater than or equal to 17 but less than or equal to 21, then the dealer must stay. If at any time the dealer’s total value is above 21, then the dealer busts and the player wins.\n",
    "7. Finally, if both the player and dealer scores are below 21, and no one has busted yet, the player with the highest total wins. In the case of a tie, the dealer wins.\n",
    "\n",
    "#### Best Practices to Follow:\n",
    "\n",
    "\n",
    "It’s worth breaking up each functional task in create_blackjack_game() into separate functions. For example, a function to check the score of a player’s hand, to check whether a player has won, and so on. This entire implementation can be done neatly in about eight functions.\n",
    "\n",
    "#### Create a Deck of Cards\n",
    "\n",
    "Complete the `create_standard_deck()` function, which creates a new deck. The deck itself must be a data structure list. The cards within the deck must be represented as tuples of the form (suit, number), where the suit is a string that must be either ‘hearts’, ‘clubs’, ‘spades’, or ‘diamonds’, and the number is an integer that must be one of the following: 2, 3, 4, 5, 6, 7, 8, 9, 10, 11, 12, 13, or 14. Note that the number used to identify the card has the following association: Jack = 11, Queen = 12, King = 13, and Ace = 14. In terms of value, the picture cards (Jack, Queen, and King) all have a value of 10, and the Ace card has a value of 11. The casino only wants you to implement a simple implementation of blackjack, in that the first to 21 wins, and special cases for checking for blackjack are not required. The deck should be sorted in alphabetical order of the suit, and then by an ascending integer identifier; for example: [(‘clubs’, 2), (‘clubs’, 3), ..., (‘diamonds’, 2), ..., (‘diamonds’, 14), (‘hearts’, 2), ... , (‘spades’, 14)]."
   ]
  },
  {
   "cell_type": "code",
   "execution_count": null,
   "metadata": {},
   "outputs": [],
   "source": []
  },
  {
   "cell_type": "markdown",
   "metadata": {},
   "source": [
    "#### Drawing a Card from a Deck\n",
    "\n",
    "Your task is to complete the function stub `draw_card(deck)`.\n",
    "The function takes a deck as the input. The function should randomly select a card from the deck using the random.choice() method and then remove the card from the deck by completing the remove_card_from_the_deck() function. Once this is done, the function needs to return the card that was selected."
   ]
  },
  {
   "cell_type": "code",
   "execution_count": null,
   "metadata": {},
   "outputs": [],
   "source": []
  },
  {
   "cell_type": "code",
   "execution_count": null,
   "metadata": {},
   "outputs": [],
   "source": []
  },
  {
   "cell_type": "markdown",
   "metadata": {},
   "source": [
    "#### Getting the Count of the Cards in a Player’s Hands\n",
    "\n",
    "Your task is to complete the function stub `get_count(player)`. The function takes a player’s hand, which is a list, as input. The function calculates and returns the value of the player’s hand. It should be noted that a special mapping is required. Currently, in the deck, Jack has a value of 11, Queen has a value of 12, King has a value of 13, and Ace has a value of 14. You need to ensure that the Jack, Queen, and King cards all have a value of 10. Finally, for the purposes of this implementation, we will only treat the Ace with a value of 11."
   ]
  },
  {
   "cell_type": "code",
   "execution_count": null,
   "metadata": {},
   "outputs": [],
   "source": []
  },
  {
   "cell_type": "code",
   "execution_count": null,
   "metadata": {},
   "outputs": [],
   "source": []
  },
  {
   "cell_type": "markdown",
   "metadata": {},
   "source": [
    "#### Checking whether a Player has Won\n",
    "Your task is to complete the function stub check_cards(player). The function takes a player’s hand as input and returns ‘WIN’ if the input player has exactly a count of 21. If they have a count that is greater than 21, then it returns ‘BUST’; otherwise, it returns ‘OK’."
   ]
  },
  {
   "cell_type": "code",
   "execution_count": null,
   "metadata": {},
   "outputs": [],
   "source": []
  },
  {
   "cell_type": "code",
   "execution_count": null,
   "metadata": {},
   "outputs": [],
   "source": []
  },
  {
   "cell_type": "markdown",
   "metadata": {},
   "source": [
    "# Putting it All Together\n",
    "\n",
    "Your task is to now combine everything together to create the blackjack game that is defined in the `create_blackjack_game(user_input)` function. In the first part of this task, you will implement the section marked with `# FIRST SECTION INSERT YOUR CODE HERE`. For this first section, you should do the following:\n",
    "\n",
    "● Create a list for the player called ‘player’, which will hold the cards in the player’s hand, and then create another list for the dealer called ‘dealer’, which will hold the cards in the dealer’s hand.\n",
    "\n",
    "● Create a new deck of cards using the `create_standard_deck()` function.\n",
    "\n",
    "● Draw two cards for each player and add them to the respective player’s hands.\n",
    "\n",
    "● Create two variables, one for each player, that stores the count of the player’s hands. The cards will be displayed using the `display_player(player)` function and the `display_dealer(opponent, start=true)` function. These functions have been written already, but will need to be placed correctly.\n",
    "\n",
    "You then need to implement the second section marked with `# SECOND SECTION INSERT YOUR CODE HERE`. For this second section, you should do the following:\n",
    "\n",
    "● Implement the logic for the player. The code has already been provided that prompts the user for an action and stores this in `player_action`. If the user action is **q**, then the game quits. You need to implement the part where the user provides an **h**, which stands for ‘hit’ (that is, for drawing a card), and **s**, which stands for ‘stay’ (that is, to stop drawing cards). After each card is drawn, the player’s hand needs to be checked to see whether they have won, they are bust, or whether everything is okay.You will need to implement `display_player(player)` and `display_dealer(opponent, start=true)` after each draw.\n",
    "\n",
    "You then need to implement the third section marked with `# THIRD SECTION INSERT YOUR CODE HERE`. For this third section, you should do the following:\n",
    "\n",
    "● Implement the logic for the dealer. The dealer will continue to ‘hit’ (that is, draw a new card) if the total count in their hand is lower than 17. During each ‘hit’, you must check whether the dealer has won, is bust, or is in the range from 17 to 20 (inclusive). If the dealer has a total value in the range from 17 to 20 (inclusive), then the dealer must stop drawing cards.\n",
    "\n",
    "● After this, if no winner/loser has been decided (that is, each of the players has opted to stay at some point), a final comparison is made to see who has the highest total in their hands. The winner is the player with the highest total.\n",
    "\n",
    "● At each point that represents an endpoint to the game (such as a bust, the count = 21, or the highest deck value if both players stay), you need to return an appropriate value. For example, if the player wins, return **1**, and if the dealer wins, then return **–1**."
   ]
  },
  {
   "cell_type": "code",
   "execution_count": null,
   "metadata": {},
   "outputs": [],
   "source": []
  },
  {
   "cell_type": "markdown",
   "metadata": {},
   "source": [
    "#### Make it your own (Optional)\n",
    "\n",
    "Extend the implementation of blackjack to work with multiple decks. This involves creating several decks and then executing the same logic, as mentioned previously, for the blackjack game. Note that with multiple decks, it’s possible to get multiple copies of the same card. For example, a player may get a hand consisting of (‘clubs’, 2), (‘clubs’, 2), and so on.\n",
    "\n",
    "Further extend the implementation of blackjack with cheat decks (or missing cards); that is, create decks with known missing cards and ensure that the blackjack logic still works. For example, it should be possible to create decks consisting entirely of Aces and picture cards. This would drastically increase the number of times either player has a hand consisting of a value of 21.\n",
    "\n",
    "Create a “card counting” scheme to keep track of the running count. First, you will need to extend the game logic to create a discard pile. The discard pile contains all the cards that have been used in the previous hands and starts off empty. Create a system that tracks the cards the player has observed and use this information to display the probability of a player drawing a picture card. For this, you should assume that the deck is a complete standard deck. This probability should be printed to the screen and should be “live” in that it updates each time a card is revealed to the player."
   ]
  },
  {
   "cell_type": "code",
   "execution_count": null,
   "metadata": {},
   "outputs": [],
   "source": []
  },
  {
   "cell_type": "code",
   "execution_count": null,
   "metadata": {},
   "outputs": [],
   "source": []
  },
  {
   "cell_type": "code",
   "execution_count": null,
   "metadata": {},
   "outputs": [],
   "source": []
  },
  {
   "cell_type": "code",
   "execution_count": null,
   "metadata": {},
   "outputs": [],
   "source": []
  }
 ],
 "metadata": {
  "language_info": {
   "name": "python"
  }
 },
 "nbformat": 4,
 "nbformat_minor": 2
}
