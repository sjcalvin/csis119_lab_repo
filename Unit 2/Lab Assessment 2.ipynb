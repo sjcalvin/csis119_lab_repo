{
 "cells": [
  {
   "cell_type": "markdown",
   "metadata": {},
   "source": [
    "#### Scenario\n",
    "\n",
    "You work for a small company that exports artisan chocolate. Although you measure your products in kilograms, you often get orders in both pounds and ounces. You have decided that rather than have to look up conversions all the time, you could use Python code to take inputs to make conversions between the different units of measurement.\n",
    "\n",
    "You will write three blocks of code. The first will convert kilograms to pounds and ounces. The second will convert pounds to kilograms and ounces. The third will convert ounces to kilograms and pounds.\n",
    "\n",
    "The conversions are as follows:\n",
    "\n",
    "- 1 kilogram = 35.274 ounces\n",
    "- 1 kilogram = 2.20462 pounds\n",
    "- 1 pound = 0.453592 kilograms\n",
    "- 1 pound = 16 ounces\n",
    "- 1 ounce = 0.0283 kilograms\n",
    "- 1 ounce = 0.0625 pounds\n",
    "\n",
    "For the purposes of this activity the template for a function has been provided. You have not yet covered functions in the course, but they are a way of reusing code. Like a Python script, a function can have zero or more parameters. In the code window you will see three functions defined as `def convert_kg(value):`, `def convert_pounds(value):`, and `def convert_ounces(value):`. Each function will have a block showing you where to place your code.\n",
    "\n",
    "#### Best Practices to Follow:\n",
    "\n",
    "_Within the functions you will see a line telling you where to write the code._\n",
    "\n",
    "1. Writing detailed comments and docstrings.\n",
    "2. Organizing and structuring code for readability.\n",
    "3. It is recommended that you use your own test cases in order to check for correctness. You can test your code inside the `__main__` provided.\n",
    "\n",
    "#### Steps for Completion\n"
   ]
  },
  {
   "cell_type": "markdown",
   "metadata": {},
   "source": [
    "**Task #01:** Write code for the `convert_kg(value)` function that converts `value` into pounds and ounces. The function should output the following statement **“x kg converted is y pounds and z ounces.”**."
   ]
  },
  {
   "cell_type": "code",
   "execution_count": null,
   "metadata": {},
   "outputs": [],
   "source": [
    "def convert_kg(value):\n",
    "\t# Your code starts here\n",
    "    "
   ]
  },
  {
   "cell_type": "markdown",
   "metadata": {},
   "source": [
    "**Task #02:** Write code for the `convert_pounds(value)` function that converts `value` into kg and ounces. The function should output the following statement **“x pounds converted is y kg and z ounces.”**."
   ]
  },
  {
   "cell_type": "code",
   "execution_count": null,
   "metadata": {},
   "outputs": [],
   "source": [
    "def convert_pounds(value):\n",
    "\t# Your code starts here\n",
    "    "
   ]
  },
  {
   "cell_type": "markdown",
   "metadata": {},
   "source": [
    "**Task #03:** Write code for the `convert_ounces(value)` function that converts value into kg and pounds. The function should output the following statement **“x ounces converted is y kg and z pounds.”**."
   ]
  },
  {
   "cell_type": "code",
   "execution_count": null,
   "metadata": {},
   "outputs": [],
   "source": [
    "def convert_ounces(value):\n",
    "\t# Your code starts here\n",
    "    "
   ]
  },
  {
   "cell_type": "markdown",
   "metadata": {},
   "source": [
    "**Test your code.**"
   ]
  },
  {
   "cell_type": "code",
   "execution_count": null,
   "metadata": {},
   "outputs": [],
   "source": [
    "# Test your code here\n",
    "convert_kg(10)\n",
    "convert_pounds(10)\n",
    "convert_ounces(10)"
   ]
  }
 ],
 "metadata": {
  "language_info": {
   "name": "python"
  }
 },
 "nbformat": 4,
 "nbformat_minor": 2
}
