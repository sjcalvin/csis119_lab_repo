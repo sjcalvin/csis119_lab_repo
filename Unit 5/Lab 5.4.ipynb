{
 "cells": [
  {
   "cell_type": "markdown",
   "metadata": {},
   "source": [
    "# Lab 5.4\n",
    "\n",
    "#### Scenario\n",
    "\n",
    "You need a quick way to work out exponential values given one base number and a second number. \n",
    "\n",
    "#### Aim\n",
    "\n",
    "Write a lambda function that takes in two numerical values and returns the first value, raised to the power of the second value:\n",
    "\n",
    "#### Steps for Completion\n",
    "\n",
    "1. Create a lambda function that takes in `number` and `power` and returns the value of the number raised to power.\n",
    "\n",
    "2. Assign it to a variable called **exponential**.\n",
    "\n",
    "3. Print the `exponential` variable.\n",
    "\n",
    "Using the numberical values 2 and 6, the output should be as shown below:\n",
    "\n",
    "```python\n",
    "64\n",
    "```"
   ]
  },
  {
   "cell_type": "code",
   "execution_count": null,
   "metadata": {},
   "outputs": [],
   "source": []
  },
  {
   "cell_type": "code",
   "execution_count": null,
   "metadata": {},
   "outputs": [],
   "source": []
  }
 ],
 "metadata": {
  "language_info": {
   "name": "python"
  }
 },
 "nbformat": 4,
 "nbformat_minor": 2
}
