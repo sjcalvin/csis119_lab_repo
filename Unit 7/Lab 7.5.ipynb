{
 "cells": [
  {
   "cell_type": "markdown",
   "metadata": {},
   "source": [
    "# Lab 7.5"
   ]
  },
  {
   "cell_type": "markdown",
   "metadata": {},
   "source": [
    "#### Scenario\n",
    "Given two lists, create a function that returns a list of all of the elements in both lists, with no duplicates.\n",
    "\n",
    "#### Aim\n",
    "The aim of this activity is to implement an algorithm that returns the union of elements in a collection.\n",
    "\n",
    "Although working with sets is quick and easy in Python, sometimes we might want to find the union between two lists. Create a function called **unite_lists**, which uses a loop to go through both lists and return common elements. Do not use the built-in set function.\n",
    "\n",
    "#### Steps for Completion\n",
    "\n",
    "1. Define a function named `unite_lists`.\n",
    "\n",
    "2. Using a `for` statement, iterate through the two lists, while finding the common elements in both lists without duplicates.\n",
    "\n",
    "Here is the example output:\n",
    "\n",
    "```\n",
    ">>> unite_lists([2,4,6,8],[3,6,9,12])\n",
    "\n",
    "[2, 4, 6, 8, 3, 9, 12]\n",
    "```"
   ]
  },
  {
   "cell_type": "code",
   "execution_count": null,
   "metadata": {},
   "outputs": [],
   "source": []
  },
  {
   "cell_type": "code",
   "execution_count": null,
   "metadata": {},
   "outputs": [],
   "source": []
  },
  {
   "cell_type": "code",
   "execution_count": null,
   "metadata": {},
   "outputs": [],
   "source": []
  },
  {
   "cell_type": "code",
   "execution_count": null,
   "metadata": {},
   "outputs": [],
   "source": []
  }
 ],
 "metadata": {
  "language_info": {
   "name": "python"
  }
 },
 "nbformat": 4,
 "nbformat_minor": 2
}
