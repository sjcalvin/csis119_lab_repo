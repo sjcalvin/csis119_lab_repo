{
 "cells": [
  {
   "cell_type": "markdown",
   "metadata": {},
   "source": [
    "# Lab 5.1\n",
    "\n",
    "#### Scenario\n",
    "\n",
    "Given the list l, an array, or other data structure that includes a number of different data types, you want to be able to filter out all of the integers and give an output of the remaining bits of data.\n",
    "\n",
    "#### Aim\n",
    "\n",
    "Write a function in the cell below the list, that receives a number of arguments; using a `continue` statement, skip integers and print out all other values.\n",
    "\n",
    "#### Steps for Completion\n",
    "\n",
    "1. Define a function named `skip_integers`, with a variable number of arguments.\n",
    "\n",
    "2. Use a `for` loop to iterate over the arguments in the list l.\n",
    "\n",
    "3. Use a check to see whether the value passed is of the integer type. If it is, use the `continue` statement to ignore it.\n",
    "\n",
    "4. Print the arguments.\n",
    "\n",
    "5. In the cell below the one with the function, call the function and run the cell.\n",
    "\n",
    "The output should be as shown below:\n",
    "\n",
    "#### Deliverable.\n",
    "For the deliverable, save this notebook after running the cells, and then upload the entire notebook as a submission comment on this assignment in Canvas."
   ]
  },
  {
   "cell_type": "code",
   "execution_count": null,
   "metadata": {},
   "outputs": [],
   "source": [
    "l = [1, 2, 'parrot', 4, 'dog', 6]"
   ]
  },
  {
   "cell_type": "code",
   "execution_count": null,
   "metadata": {},
   "outputs": [],
   "source": []
  },
  {
   "cell_type": "code",
   "execution_count": null,
   "metadata": {},
   "outputs": [],
   "source": []
  }
 ],
 "metadata": {
  "language_info": {
   "name": "python"
  }
 },
 "nbformat": 4,
 "nbformat_minor": 2
}
