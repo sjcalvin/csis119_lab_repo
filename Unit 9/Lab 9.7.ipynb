{
 "cells": [
  {
   "cell_type": "markdown",
   "metadata": {},
   "source": [
    "# Lab 9.7"
   ]
  },
  {
   "cell_type": "markdown",
   "metadata": {
    "vscode": {
     "languageId": "plaintext"
    }
   },
   "source": [
    "\n",
    "#### Scenario\n",
    "\n",
    "It's the year 2017. You're working for an electronics company and have been tasked with modeling out the software for a cutting-edge tablet that will have a built-in face recognition front camera: a biometric tablet.\n",
    "\n",
    "#### Aim\n",
    "\n",
    "Create a class called `TabletCamera` and a class called `Facial_recognition` that will be the base classes of a derived class called `BioTablet`.\n",
    "\n",
    "#### Steps for Completion\n",
    "\n",
    "1. Create a `TabletCamera` class that will be initialized with a `pixels` attribute.\n",
    "\n",
    "2. Create a `Facial_recognition` class with a `scan_face` method that prints the message, **Scanning Face...**\n",
    "\n",
    "3. Create a `BioTablet` class that inherits from both the `TabletCamera` and `Facial_recognition` classes.\n",
    "\n",
    "4. At the bottom of the script initialize an instance of the `BioTablet` class and pass it the value **\"12MP\"**. Then we call the `scan_face` method and also print out the `pixels` attribute.\n",
    "\n",
    "Run the script with _python3 main.py_ command and we should have an output that looks like _Snippet 7.91_:\n",
    "\n",
    "```\n",
    "Scanning Face...\n",
    "12MP\n",
    "```\n",
    "\n",
    "<sup>_Snippet 7.91_</sup>\n"
   ]
  },
  {
   "cell_type": "code",
   "execution_count": null,
   "metadata": {},
   "outputs": [],
   "source": [
    "# Write the TabletCamera class here \n",
    "\n",
    "\n",
    "# Write the Facial_recognition class here\n",
    "\n",
    "\n",
    "# Write the BioTablet class here\n",
    "\n",
    "\n",
    "if __name__ == '__main__':\n",
    "# Write an instance of the BioTablet class\n",
    "    \n",
    "# Call the scan_face method from the instance\n",
    "\n",
    "# Print the pixels from the instance"
   ]
  },
  {
   "cell_type": "code",
   "execution_count": null,
   "metadata": {},
   "outputs": [],
   "source": []
  },
  {
   "cell_type": "code",
   "execution_count": null,
   "metadata": {},
   "outputs": [],
   "source": []
  },
  {
   "cell_type": "code",
   "execution_count": null,
   "metadata": {},
   "outputs": [],
   "source": []
  }
 ],
 "metadata": {
  "kernelspec": {
   "display_name": ".venv",
   "language": "python",
   "name": "python3"
  },
  "language_info": {
   "name": "python",
   "version": "3.10.13"
  }
 },
 "nbformat": 4,
 "nbformat_minor": 2
}
