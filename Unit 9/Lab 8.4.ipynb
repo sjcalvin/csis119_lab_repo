{
 "cells": [
  {
   "cell_type": "markdown",
   "metadata": {},
   "source": [
    "# Lab 8.4 (Do last)"
   ]
  },
  {
   "cell_type": "markdown",
   "metadata": {},
   "source": [
    "\n",
    "As a developer, you may need to create exception classes that handle custom exceptions that are not defined in the standard library in a certain way. In this challenge, we will practice creating custom exception classes.\n",
    "\n",
    "The steps are as follows:\n",
    "\n",
    "1. Subclass the `Exception` class and create a new `Exception` class of your choosing.\n",
    "\n",
    "2. Write some code where you use the `try…except` flow to capture and handle your custom exception.\n"
   ]
  },
  {
   "cell_type": "code",
   "execution_count": null,
   "metadata": {
    "vscode": {
     "languageId": "plaintext"
    }
   },
   "outputs": [],
   "source": [
    "# Write your class here\n",
    "\n",
    "\n"
   ]
  },
  {
   "cell_type": "code",
   "execution_count": null,
   "metadata": {
    "vscode": {
     "languageId": "plaintext"
    }
   },
   "outputs": [],
   "source": [
    "# Test you custom exception class below\n",
    "\n"
   ]
  }
 ],
 "metadata": {
  "language_info": {
   "name": "python"
  }
 },
 "nbformat": 4,
 "nbformat_minor": 2
}
